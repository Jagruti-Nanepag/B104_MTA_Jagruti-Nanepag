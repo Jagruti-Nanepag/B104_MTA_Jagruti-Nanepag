{
 "cells": [
  {
   "cell_type": "markdown",
   "id": "f74314be-9b0b-48ba-859c-ead012925a46",
   "metadata": {},
   "source": [
    "#### PDF -1"
   ]
  },
  {
   "cell_type": "code",
   "execution_count": null,
   "id": "7e1b2e67-e216-496b-a566-fa365c7882a5",
   "metadata": {},
   "outputs": [],
   "source": [
    "#consider the code\n",
    "x=8\n",
    "y=10\n",
    "result=x//3*3/2+y%2**2\n",
    "print(result)"
   ]
  },
  {
   "cell_type": "code",
   "execution_count": 31,
   "id": "fcbf9931-f31b-443e-9dcb-4216a21b96c1",
   "metadata": {},
   "outputs": [
    {
     "name": "stdin",
     "output_type": "stream",
     "text": [
      "How old were you at the time of joining  24\n",
      "How old are you today 60\n"
     ]
    },
    {
     "name": "stdout",
     "output_type": "stream",
     "text": [
      "congratulaions on 36 year of services\n"
     ]
    }
   ],
   "source": [
    "#consider the code\n",
    "start = input(\"How old were you at the time of joining \")\n",
    "end= input(\"How old are you today\")\n",
    "# print(\"congratulaions on\" +(int(end)-int(start)) + 'year of services')\n",
    "print(\"congratulaions on \" + str(int(end)-int(start)) + ' year of services')"
   ]
  },
  {
   "cell_type": "code",
   "execution_count": 41,
   "id": "97fbe800-8b99-45fa-a83a-e91c484309c8",
   "metadata": {},
   "outputs": [
    {
     "name": "stdout",
     "output_type": "stream",
     "text": [
      "CAT\n"
     ]
    }
   ],
   "source": [
    "# print the 'CAt' to the console\n",
    "x='ACROTE'\n",
    "y='APPLE'\n",
    "z='TOMATO'\n",
    "print(x[1]+y[0]+z[0])\n",
    "# print(x[2]+y[1]+z[1])"
   ]
  },
  {
   "cell_type": "code",
   "execution_count": 9,
   "id": "73a1f374-be09-4820-9347-90b2048797f8",
   "metadata": {},
   "outputs": [
    {
     "name": "stdout",
     "output_type": "stream",
     "text": [
      "True\n",
      "True\n"
     ]
    }
   ],
   "source": [
    "x='Durga'\n",
    "y='Durga'\n",
    "# result=condition\n",
    "print(x is y)"
   ]
  },
  {
   "cell_type": "code",
   "execution_count": 49,
   "id": "ba9e8e91-9858-4153-9e61-1ccc9082392f",
   "metadata": {},
   "outputs": [
    {
     "name": "stdout",
     "output_type": "stream",
     "text": [
      "101010 3.3333333333333335 2.6\n"
     ]
    }
   ],
   "source": [
    "# code segment-1\n",
    "a1='10'\n",
    "b1=3\n",
    "c1=a1*b1\n",
    "# code segment-2\n",
    "a2=10\n",
    "b2=3\n",
    "c2=a2/b2\n",
    "# code segment-3\n",
    "a3=2.6\n",
    "b3=1\n",
    "c3=a3/b3\n",
    "print(c1,c2,c3)"
   ]
  },
  {
   "cell_type": "code",
   "execution_count": 59,
   "id": "a1a13b7a-2929-464b-bea8-1801d9266603",
   "metadata": {},
   "outputs": [
    {
     "name": "stdout",
     "output_type": "stream",
     "text": [
      "False\n",
      "True\n"
     ]
    }
   ],
   "source": [
    "n1=[10,20,30,40,50]\n",
    "n2=[10,20,30,40,50]\n",
    "print(n1 is n2)\n",
    "print(n1==n2)"
   ]
  },
  {
   "cell_type": "code",
   "execution_count": 79,
   "id": "0ecfa428-8ced-4322-9476-7eda7f44edca",
   "metadata": {},
   "outputs": [
    {
     "name": "stdout",
     "output_type": "stream",
     "text": [
      "1\n",
      "0\n",
      "7\n",
      "0\n"
     ]
    }
   ],
   "source": [
    "a=1\n",
    "b=3\n",
    "c=5\n",
    "d=7\n",
    "print(a-b//d)\n",
    "print(a**d//b)\n",
    "print(a+b*2)\n",
    "print(a%b-1)"
   ]
  },
  {
   "cell_type": "code",
   "execution_count": 105,
   "id": "940316b2-81cc-46be-955b-229c0fac8402",
   "metadata": {},
   "outputs": [
    {
     "name": "stdout",
     "output_type": "stream",
     "text": [
      "['A', 'B', ' ', 'C', 'D', 'EF']\n"
     ]
    }
   ],
   "source": [
    "# del list  # Deletes the redefinition\n",
    "a = 'AB CD'\n",
    "my_list = list(a)\n",
    "my_list.append('EF')\n",
    "print(my_list)"
   ]
  },
  {
   "cell_type": "code",
   "execution_count": 111,
   "id": "ea410545-5a8b-46b6-bb97-21bc961687f9",
   "metadata": {},
   "outputs": [
    {
     "name": "stdout",
     "output_type": "stream",
     "text": [
      "valid\n"
     ]
    }
   ],
   "source": [
    "#to print 'valid' to the console, which condtion we have to take for if state?\n",
    "a=5\n",
    "b=10\n",
    "c=2\n",
    "d=True\n",
    "x=a+b*c\n",
    "y=a+b/d\n",
    "if x>y:\n",
    "    print(\"valid\")\n",
    "else:\n",
    "    print(\"invalid\")"
   ]
  },
  {
   "cell_type": "code",
   "execution_count": 115,
   "id": "68dab1e3-9ba1-4c92-b38b-c3f414d37510",
   "metadata": {},
   "outputs": [
    {
     "name": "stdin",
     "output_type": "stream",
     "text": [
      "enter first number: 34\n",
      "enter second number: 44\n"
     ]
    },
    {
     "name": "stdout",
     "output_type": "stream",
     "text": [
      "69\n"
     ]
    }
   ],
   "source": [
    "X=input(\"enter first number:\")\n",
    "y=input(\"enter second number:\")\n",
    "print(str(int(x)+int(y)))"
   ]
  },
  {
   "cell_type": "code",
   "execution_count": 12,
   "id": "c56059e5-4704-4077-bf5f-78131fad1db9",
   "metadata": {},
   "outputs": [
    {
     "name": "stdout",
     "output_type": "stream",
     "text": [
      "<class 'float'>\n",
      "<class 'str'>\n",
      "<class 'float'>\n"
     ]
    }
   ],
   "source": [
    "#consider the folowing py code:\n",
    "weight = 62.4\n",
    "print(type(weight))\n",
    "xip ='80098'\n",
    "print(type(xip))\n",
    "value=+23E4\n",
    "print(type(value))"
   ]
  },
  {
   "cell_type": "code",
   "execution_count": 16,
   "id": "3c6d3cd9-ec2d-475e-a879-e197eef7b42d",
   "metadata": {},
   "outputs": [
    {
     "name": "stdout",
     "output_type": "stream",
     "text": [
      "30 1020 101010\n"
     ]
    }
   ],
   "source": [
    "a=10+20\n",
    "b='10'+'20'\n",
    "c='10'*3\n",
    "print(a,b,c)"
   ]
  },
  {
   "cell_type": "code",
   "execution_count": 18,
   "id": "3334dfc2-b4ab-46fe-8cdb-ef572c409035",
   "metadata": {},
   "outputs": [
    {
     "name": "stdout",
     "output_type": "stream",
     "text": [
      "True True False True\n"
     ]
    }
   ],
   "source": [
    "a=bool([False])\n",
    "b=bool(3)\n",
    "c=bool(\"\")\n",
    "d=bool(' ')\n",
    "print(a,b,c,d)"
   ]
  },
  {
   "cell_type": "code",
   "execution_count": 24,
   "id": "bf65b979-e3b8-4cff-95a0-005784c61f00",
   "metadata": {},
   "outputs": [
    {
     "name": "stdout",
     "output_type": "stream",
     "text": [
      "17\n"
     ]
    }
   ],
   "source": [
    "res=(2*(3+4)**2-(3**3)*3)\n",
    "print(res)"
   ]
  },
  {
   "cell_type": "code",
   "execution_count": null,
   "id": "b946f046-02bf-473b-9e61-d111aa7b71c7",
   "metadata": {},
   "outputs": [],
   "source": [
    "#### consider the code\n",
    "##### a=2\n",
    "##### a+=1\n",
    "##### To make value 9, which expression req to place at line1\n",
    "b**=2\n",
    "b-=1\n",
    "print(b)"
   ]
  },
  {
   "cell_type": "code",
   "execution_count": 59,
   "id": "c63c2253-d96d-4858-b198-2a6be8e43c90",
   "metadata": {},
   "outputs": [
    {
     "name": "stdout",
     "output_type": "stream",
     "text": [
      "False True True False\n"
     ]
    }
   ],
   "source": [
    "a=bool(0)\n",
    "b=bool(5)\n",
    "c=bool(0.5)\n",
    "d=bool(0.0)\n",
    "print(a,b,c,d)"
   ]
  },
  {
   "cell_type": "code",
   "execution_count": 63,
   "id": "f84d03d2-45da-41de-ad1c-01cac559c932",
   "metadata": {},
   "outputs": [
    {
     "name": "stdout",
     "output_type": "stream",
     "text": [
      "3.5\n",
      "3\n",
      "3\n"
     ]
    }
   ],
   "source": [
    "#consider the code\n",
    "a=21\n",
    "b=6\n",
    "print(a/b)#divide\n",
    "print(a//b)#floor\n",
    "print(a%b)#module"
   ]
  },
  {
   "cell_type": "code",
   "execution_count": 69,
   "id": "234c5777-0f81-4752-b053-26118dc5ac79",
   "metadata": {},
   "outputs": [
    {
     "name": "stdout",
     "output_type": "stream",
     "text": [
      "True\n"
     ]
    }
   ],
   "source": [
    "subjects=['java','python','sap']\n",
    "more_sub=['java','python','sap']\n",
    "extra_sub=more_sub\n",
    "print(extra_sub is more_sub)\n"
   ]
  },
  {
   "cell_type": "code",
   "execution_count": 71,
   "id": "623de3a4-a4a7-4c2d-ad46-db2436a84b25",
   "metadata": {},
   "outputs": [
    {
     "name": "stdout",
     "output_type": "stream",
     "text": [
      "False\n",
      "False\n",
      "True\n",
      "True\n"
     ]
    }
   ],
   "source": [
    "num=[10,20,30,40,50]\n",
    "alp=['a','b','c','d','e']\n",
    "print(num is alp)\n",
    "print(num == alp)\n",
    "num=alp\n",
    "print(num is alp)\n",
    "print(num==alp)"
   ]
  },
  {
   "cell_type": "code",
   "execution_count": 73,
   "id": "a6560621-c434-4574-99f1-964adebed1f5",
   "metadata": {},
   "outputs": [
    {
     "name": "stdout",
     "output_type": "stream",
     "text": [
      "<class 'int'>\n",
      "<class 'bool'>\n",
      "<class 'str'>\n"
     ]
    }
   ],
   "source": [
    "age=0\n",
    "minor=False\n",
    "name='Durga'\n",
    "print(type(age))\n",
    "print(type(minor))\n",
    "print(type(name))"
   ]
  },
  {
   "cell_type": "code",
   "execution_count": 77,
   "id": "a5ab3f4c-ce0d-44e6-af33-955dd9733598",
   "metadata": {},
   "outputs": [
    {
     "name": "stdout",
     "output_type": "stream",
     "text": [
      "8 8 10.666666666666666 -4\n"
     ]
    }
   ],
   "source": [
    "a=8//3*4\n",
    "b=8%3*4\n",
    "c=8/3*4\n",
    "d=8-3*4\n",
    "print(a,b,c,d)"
   ]
  },
  {
   "cell_type": "code",
   "execution_count": 124,
   "id": "fb3d4037-6731-442a-b0d5-28400fe5e9cd",
   "metadata": {},
   "outputs": [
    {
     "name": "stdout",
     "output_type": "stream",
     "text": [
      "2\n"
     ]
    }
   ],
   "source": [
    "#consider the code:\n",
    "s='python is easy'\n",
    "s1=s[6:-4]\n",
    "# print(len(s1))\n",
    "s2=s1.strip()\n",
    "print(len(s2))"
   ]
  },
  {
   "cell_type": "code",
   "execution_count": 126,
   "id": "867726dd-a627-4c1d-951d-82e64417e879",
   "metadata": {},
   "outputs": [
    {
     "data": {
      "text/plain": [
       "'Mango'"
      ]
     },
     "execution_count": 126,
     "metadata": {},
     "output_type": "execute_result"
    }
   ],
   "source": [
    "list=['apple','banana','carrot','Mango']\n",
    "list[-1]"
   ]
  },
  {
   "cell_type": "code",
   "execution_count": 128,
   "id": "04d880d9-f46d-405a-aa67-924d1b00d29e",
   "metadata": {},
   "outputs": [
    {
     "name": "stdout",
     "output_type": "stream",
     "text": [
      "Boy\n",
      "Cat\n",
      "dog\n"
     ]
    }
   ],
   "source": [
    "#which of the following code snippet will produce the output:boy cat dog\n",
    "lst=['Apple','Boy','Cat','dog']\n",
    "for i in lst:\n",
    "    if i[0]!='A':\n",
    "        print(i)"
   ]
  },
  {
   "cell_type": "code",
   "execution_count": 132,
   "id": "51e7966b-4f3a-418f-baf0-dc30dd598352",
   "metadata": {},
   "outputs": [
    {
     "name": "stdout",
     "output_type": "stream",
     "text": [
      "3.0\n"
     ]
    }
   ],
   "source": [
    "a=15\n",
    "b=5\n",
    "print(a/b)"
   ]
  },
  {
   "cell_type": "code",
   "execution_count": 134,
   "id": "b4a5119d-c554-4504-88ce-33848a4b8ff3",
   "metadata": {},
   "outputs": [
    {
     "data": {
      "text/plain": [
       "-4"
      ]
     },
     "execution_count": 134,
     "metadata": {},
     "output_type": "execute_result"
    }
   ],
   "source": [
    "a=1\n",
    "b=2\n",
    "c=4\n",
    "d=6\n",
    "# which of the following result retrurn -4?\n",
    "(a+b)//d-c"
   ]
  },
  {
   "cell_type": "code",
   "execution_count": 142,
   "id": "7cb9dd58-8e4e-4a6a-b4b4-2d80a44d7628",
   "metadata": {},
   "outputs": [
    {
     "name": "stdout",
     "output_type": "stream",
     "text": [
      "is easy\n",
      "easy\n",
      "is easyeasy\n"
     ]
    }
   ],
   "source": [
    "s='python is easy'\n",
    "s1=s[-7:]\n",
    "s2=s[-4:]\n",
    "print(s1)\n",
    "print(s2)\n",
    "print(s1+s2)"
   ]
  },
  {
   "cell_type": "code",
   "execution_count": null,
   "id": "61057b39-2079-4165-a812-da839975b1a8",
   "metadata": {},
   "outputs": [],
   "source": [
    "# #note:Thew valid operator Precedence Order\n",
    "# Paranthensis\n",
    "# Exponents\n",
    "# Unary Positive , negative and not\n",
    "# Mutiplication and division\n",
    "# Addition and Subtraction\n",
    "# And"
   ]
  },
  {
   "cell_type": "code",
   "execution_count": 156,
   "id": "200f7cf3-75d9-46f1-b83a-a594f8cafbcb",
   "metadata": {},
   "outputs": [
    {
     "name": "stdin",
     "output_type": "stream",
     "text": [
      "Enter the num for the expression: 5\n"
     ]
    },
    {
     "name": "stdout",
     "output_type": "stream",
     "text": [
      "5\n",
      "0.04 4 -25 25\n"
     ]
    }
   ],
   "source": [
    "a=eval(input(\"Enter the num for the expression:\"))#eval function the string like a py expression\n",
    "# and return the result integer\n",
    "print(a)\n",
    "b=(a)**-2\n",
    "# c=(a-)**2# invalid syntax\n",
    "d=-(a)**2\n",
    "e=(-a)**2\n",
    "print(b,c,d,e)"
   ]
  },
  {
   "cell_type": "code",
   "execution_count": 161,
   "id": "add7065a-3d43-4886-8283-b43f0c0c0852",
   "metadata": {},
   "outputs": [
    {
     "name": "stdout",
     "output_type": "stream",
     "text": [
      "7\n"
     ]
    }
   ],
   "source": [
    "#consider the following expression\n",
    "result=8//6%5+2**3-2\n",
    "print(result)"
   ]
  },
  {
   "cell_type": "code",
   "execution_count": 179,
   "id": "e65be31a-63a3-47c1-8ba3-3de1ba422c04",
   "metadata": {},
   "outputs": [
    {
     "name": "stdout",
     "output_type": "stream",
     "text": [
      "11\n",
      "11\n"
     ]
    }
   ],
   "source": [
    "a=3\n",
    "b=5\n",
    "a+=2**3\n",
    "print(a)\n",
    "a-=b//2//3\n",
    "print(a)"
   ]
  },
  {
   "cell_type": "code",
   "execution_count": 183,
   "id": "a4eecf69-6bca-4333-9c67-202440af9bec",
   "metadata": {},
   "outputs": [
    {
     "name": "stdout",
     "output_type": "stream",
     "text": [
      "False False False False\n"
     ]
    }
   ],
   "source": [
    "a=bool([])\n",
    "b=bool(())\n",
    "c=bool(range(0))\n",
    "d=bool({})\n",
    "c=bool(set())\n",
    "print(a,b,c,d)"
   ]
  },
  {
   "cell_type": "code",
   "execution_count": 199,
   "id": "c60533cf-8df9-44cf-a3ac-f49694a95ed1",
   "metadata": {},
   "outputs": [
    {
     "name": "stdout",
     "output_type": "stream",
     "text": [
      "10\n"
     ]
    }
   ],
   "source": [
    "num=[10,20,30,40]\n",
    "x=0\n",
    "for a in (30,40,50):\n",
    "    if a  not in num:\n",
    "        x=x+10\n",
    "print(x)\n",
    "# for i in (30,40,50):\n",
    "#     if i in num:\n",
    "#         x=x+10\n",
    "# print(x)\n",
    "# for i in (30,40,50):\n",
    "#     if i not in num:\n",
    "#         x=x+5\n",
    "# print(x)\n",
    "# for i in (30,40,50):\n",
    "#     if i in num:\n",
    "#         x=x+5\n",
    "# print(x)\n"
   ]
  },
  {
   "cell_type": "code",
   "execution_count": 205,
   "id": "831ac21c-a7d3-4151-9cf0-d79afd1aa84e",
   "metadata": {},
   "outputs": [
    {
     "name": "stdout",
     "output_type": "stream",
     "text": [
      "False\n",
      "True\n",
      "True\n",
      "True\n"
     ]
    }
   ],
   "source": [
    "n1=[10,20,30,40,50]\n",
    "n2=[10,20,30,40,50]\n",
    "print(n1 is n2)\n",
    "print(n1 == n2)\n",
    "n1=n2\n",
    "print(n1 is n2)\n",
    "print(n1 == n2)"
   ]
  },
  {
   "cell_type": "markdown",
   "id": "9597214d-942e-4633-95e2-25b525a08d8b",
   "metadata": {},
   "source": [
    "### PDF 2 "
   ]
  },
  {
   "cell_type": "code",
   "execution_count": 215,
   "id": "7da53466-b299-48c4-9602-90d35ab9549a",
   "metadata": {},
   "outputs": [
    {
     "data": {
      "text/plain": [
       "4"
      ]
     },
     "execution_count": 215,
     "metadata": {},
     "output_type": "execute_result"
    }
   ],
   "source": [
    "# Which expresson evaluates to 4?\n",
    "7%2+3"
   ]
  },
  {
   "cell_type": "code",
   "execution_count": 219,
   "id": "00528a6e-65dd-4b18-b4a7-2fdb0c8138bb",
   "metadata": {},
   "outputs": [
    {
     "ename": "ValueError",
     "evalue": "could not convert string to float: 'C:\\\\Users\\\\win10\\\\AppData\\\\Roaming\\\\jupyter\\\\runtime\\\\kernel-12d22680-339d-4c15-8c3e-5f3f29cb52ed.json'",
     "output_type": "error",
     "traceback": [
      "\u001b[1;31m---------------------------------------------------------------------------\u001b[0m",
      "\u001b[1;31mValueError\u001b[0m                                Traceback (most recent call last)",
      "Cell \u001b[1;32mIn[219], line 4\u001b[0m\n\u001b[0;32m      2\u001b[0m \u001b[38;5;28msum\u001b[39m\u001b[38;5;241m=\u001b[39m\u001b[38;5;241m0\u001b[39m\n\u001b[0;32m      3\u001b[0m \u001b[38;5;28;01mfor\u001b[39;00m i \u001b[38;5;129;01min\u001b[39;00m \u001b[38;5;28mrange\u001b[39m(\u001b[38;5;241m2\u001b[39m,\u001b[38;5;28mlen\u001b[39m(argv)):\n\u001b[1;32m----> 4\u001b[0m     \u001b[38;5;28msum\u001b[39m \u001b[38;5;241m+\u001b[39m\u001b[38;5;241m=\u001b[39m\u001b[38;5;28mfloat\u001b[39m(argv[i])\n\u001b[0;32m      5\u001b[0m \u001b[38;5;28mprint\u001b[39m(\u001b[38;5;124m\"\u001b[39m\u001b[38;5;124mThe avg for \u001b[39m\u001b[38;5;132;01m{}\u001b[39;00m\u001b[38;5;124m is\u001b[39m\u001b[38;5;132;01m{1:.2f}\u001b[39;00m\u001b[38;5;124m\"\u001b[39m\u001b[38;5;241m.\u001b[39mformat(argv[\u001b[38;5;241m1\u001b[39m],\u001b[38;5;28msum\u001b[39m\u001b[38;5;241m/\u001b[39m(\u001b[38;5;28mlen\u001b[39m(argv)\u001b[38;5;241m-\u001b[39m\u001b[38;5;241m2\u001b[39m)))\n",
      "\u001b[1;31mValueError\u001b[0m: could not convert string to float: 'C:\\\\Users\\\\win10\\\\AppData\\\\Roaming\\\\jupyter\\\\runtime\\\\kernel-12d22680-339d-4c15-8c3e-5f3f29cb52ed.json'"
     ]
    }
   ],
   "source": [
    "from sys import argv\n",
    "sum=0\n",
    "for i in range(2,len(argv)):\n",
    "    sum += float(argv[i])\n",
    "print(\"The avg for {} is{1:.2f}\".format(argv[1],sum/(len(argv)-2)))"
   ]
  },
  {
   "cell_type": "code",
   "execution_count": 223,
   "id": "56cde00b-b770-4bab-8643-58c3d28f7ae4",
   "metadata": {},
   "outputs": [
    {
     "name": "stdout",
     "output_type": "stream",
     "text": [
      "10202\n"
     ]
    }
   ],
   "source": [
    "# consider the code:\n",
    "# x=3\n",
    "# x+-1\n",
    "#line 1\n",
    "#which line should be inserted at line 1 so that x value will become 16?"
   ]
  },
  {
   "cell_type": "code",
   "execution_count": 229,
   "id": "539b0462-6dea-4938-a129-8c38b6192c4f",
   "metadata": {},
   "outputs": [
    {
     "name": "stdin",
     "output_type": "stream",
     "text": [
      "Enter the some value 10.0\n"
     ]
    },
    {
     "name": "stdout",
     "output_type": "stream",
     "text": [
      "<class 'str'>\n"
     ]
    }
   ],
   "source": [
    "print(type(input(\"Enter the some value\")))"
   ]
  },
  {
   "cell_type": "code",
   "execution_count": 13,
   "id": "e9a05f1e-9734-4969-8f2d-18c6893a0b56",
   "metadata": {},
   "outputs": [],
   "source": [
    "# a=['a','b','c','d']\n",
    "# for i in a:\n",
    "#     # a.append(i.upper())\n",
    "# # print(a)\n",
    "# #ans:MemoryError Thrown at runtime"
   ]
  },
  {
   "cell_type": "code",
   "execution_count": 19,
   "id": "19421acd-043c-4153-8017-6c9cf084189e",
   "metadata": {},
   "outputs": [
    {
     "name": "stdout",
     "output_type": "stream",
     "text": [
      "55\n",
      "52\n"
     ]
    }
   ],
   "source": [
    "a='5'\n",
    "b='2'\n",
    "# print(a*b)\n",
    "print(a*2)\n",
    "print(a+b)\n",
    "# print(a-b)"
   ]
  },
  {
   "cell_type": "code",
   "execution_count": 27,
   "id": "cfbce089-5969-4d12-9843-613f72165ae6",
   "metadata": {},
   "outputs": [
    {
     "name": "stdin",
     "output_type": "stream",
     "text": [
      "enter the value: 345\n"
     ]
    },
    {
     "name": "stdout",
     "output_type": "stream",
     "text": [
      "<class 'int'>\n"
     ]
    },
    {
     "name": "stdin",
     "output_type": "stream",
     "text": [
      "enter the value: asd\n"
     ]
    },
    {
     "ename": "NameError",
     "evalue": "name 'asd' is not defined",
     "output_type": "error",
     "traceback": [
      "\u001b[1;31m---------------------------------------------------------------------------\u001b[0m",
      "\u001b[1;31mNameError\u001b[0m                                 Traceback (most recent call last)",
      "Cell \u001b[1;32mIn[27], line 3\u001b[0m\n\u001b[0;32m      1\u001b[0m \u001b[38;5;66;03m#consider the eval code:\u001b[39;00m\n\u001b[0;32m      2\u001b[0m \u001b[38;5;28mprint\u001b[39m(\u001b[38;5;28mtype\u001b[39m(\u001b[38;5;28meval\u001b[39m(\u001b[38;5;28minput\u001b[39m(\u001b[38;5;124m\"\u001b[39m\u001b[38;5;124menter the value:\u001b[39m\u001b[38;5;124m\"\u001b[39m))))\n\u001b[1;32m----> 3\u001b[0m \u001b[38;5;28mprint\u001b[39m(\u001b[38;5;28mtype\u001b[39m(\u001b[38;5;28meval\u001b[39m(\u001b[38;5;28minput\u001b[39m(\u001b[38;5;124m\"\u001b[39m\u001b[38;5;124menter the value:\u001b[39m\u001b[38;5;124m\"\u001b[39m))))\n",
      "File \u001b[1;32m<string>:1\u001b[0m\n",
      "\u001b[1;31mNameError\u001b[0m: name 'asd' is not defined"
     ]
    }
   ],
   "source": [
    "#consider the eval code:\n",
    "print(type(eval(input(\"enter the value:\"))))\n",
    "print(type(eval(input(\"enter the value:\"))))"
   ]
  },
  {
   "cell_type": "code",
   "execution_count": 29,
   "id": "a6a02ba0-d6df-49b7-8460-535d7baf67e3",
   "metadata": {},
   "outputs": [
    {
     "name": "stdout",
     "output_type": "stream",
     "text": [
      "9\n"
     ]
    }
   ],
   "source": [
    "# consider the code:\n",
    "a=7\n",
    "b=3\n",
    "c=5\n",
    "d=1\n",
    "print(a+d*2)"
   ]
  },
  {
   "cell_type": "code",
   "execution_count": 39,
   "id": "0d585b9b-16c2-4303-bb53-c6651787f53c",
   "metadata": {},
   "outputs": [
    {
     "data": {
      "text/plain": [
       "9"
      ]
     },
     "execution_count": 39,
     "metadata": {},
     "output_type": "execute_result"
    }
   ],
   "source": [
    "a=6//4%5+2**3-2//3\n",
    "a"
   ]
  },
  {
   "cell_type": "code",
   "execution_count": 45,
   "id": "afdb0ee5-60a7-4fe5-bb51-82e13afd3aa4",
   "metadata": {},
   "outputs": [
    {
     "data": {
      "text/plain": [
       "'TT'"
      ]
     },
     "execution_count": 45,
     "metadata": {},
     "output_type": "execute_result"
    }
   ],
   "source": [
    "x='TEXT'\n",
    "x[0]+x[-1]"
   ]
  },
  {
   "cell_type": "code",
   "execution_count": 47,
   "id": "35d7cb83-34f0-434d-90e6-d3fbd98fd538",
   "metadata": {},
   "outputs": [
    {
     "name": "stdout",
     "output_type": "stream",
     "text": [
      "False\n",
      "True\n",
      "False\n"
     ]
    }
   ],
   "source": [
    "print(10==10 and 20!=20)\n",
    "print(10==10 or 20!=20)\n",
    "print( not 10==10)"
   ]
  },
  {
   "cell_type": "code",
   "execution_count": 59,
   "id": "7111e852-c746-400a-b815-892ceca90813",
   "metadata": {},
   "outputs": [
    {
     "data": {
      "text/plain": [
       "2"
      ]
     },
     "execution_count": 59,
     "metadata": {},
     "output_type": "execute_result"
    }
   ],
   "source": [
    "a=float('123.456')\n",
    "bool(a)\n",
    "int(a)+False\n",
    "# atr(a)\n",
    "bool(a)+True"
   ]
  },
  {
   "cell_type": "code",
   "execution_count": 8,
   "id": "41006462-8051-4732-981d-20209095fd09",
   "metadata": {},
   "outputs": [
    {
     "name": "stdin",
     "output_type": "stream",
     "text": [
      "Enter the distance traveller in feet: 54\n",
      "Enter the time elapsed in second: 54\n"
     ]
    },
    {
     "name": "stdout",
     "output_type": "stream",
     "text": [
      "the avg veiocity 0.6818181818181819 mile/hours\n"
     ]
    }
   ],
   "source": [
    "#your are intern for XYZ cars company. you have to create a function \n",
    "# that calculates the avgerage velocirty of vahicle on a 2640 foot(1/2 mile)track.\n",
    "# consider the python code:\n",
    "distance=float(input(\"Enter the distance traveller in feet:\"))\n",
    "distance_miles=distance/5280\n",
    "time=int(input(\"Enter the time elapsed in second:\"))\n",
    "time_hours=time/3600\n",
    "velocity = distance_miles/time_hours\n",
    "print(\"the avg veiocity\",velocity,'mile/hours')"
   ]
  },
  {
   "cell_type": "code",
   "execution_count": 14,
   "id": "e2e659d4-f008-47a6-b5e1-d61f617747ac",
   "metadata": {},
   "outputs": [
    {
     "name": "stdout",
     "output_type": "stream",
     "text": [
      "10\n"
     ]
    }
   ],
   "source": [
    "x=2\n",
    "y=6\n",
    "x+=2**3\n",
    "x//=y//2//3\n",
    "print(x)"
   ]
  },
  {
   "cell_type": "code",
   "execution_count": null,
   "id": "1ad40dea-0b43-4102-8021-710e454b49d7",
   "metadata": {},
   "outputs": [],
   "source": [
    "Q19------"
   ]
  },
  {
   "cell_type": "code",
   "execution_count": 88,
   "id": "4bbe4b86-610e-4b1e-acdc-64af246eefde",
   "metadata": {},
   "outputs": [
    {
     "data": {
      "text/plain": [
       "list"
      ]
     },
     "execution_count": 88,
     "metadata": {},
     "output_type": "execute_result"
    }
   ],
   "source": [
    "# consider the code\n",
    "t=([10,20],10,False)\n",
    "type(t[0])"
   ]
  },
  {
   "cell_type": "code",
   "execution_count": 1,
   "id": "ae60e032-0e39-4512-912a-e271dad593d7",
   "metadata": {},
   "outputs": [
    {
     "name": "stdout",
     "output_type": "stream",
     "text": [
      "25.0\n"
     ]
    }
   ],
   "source": [
    "x = 3/3+3**3-3\n",
    "print(x)\n",
    "# 3/3+27-3\n",
    "# 1.0+27-3\n",
    "# 1.0+24\n",
    "# 25.0\n"
   ]
  },
  {
   "cell_type": "code",
   "execution_count": 3,
   "id": "9804b63b-b343-4f05-87be-26cd5eabd962",
   "metadata": {},
   "outputs": [
    {
     "name": "stdout",
     "output_type": "stream",
     "text": [
      "6.0\n"
     ]
    }
   ],
   "source": [
    "result=str(bool(1)+float(10)/float(2))\n",
    "# 1+10.0/2.0\n",
    "# 1+5.0\n",
    "# 6.0\n",
    "print(result)"
   ]
  },
  {
   "cell_type": "code",
   "execution_count": 5,
   "id": "3b5dafaa-1222-4bb9-a973-28c5aa2610b3",
   "metadata": {},
   "outputs": [
    {
     "name": "stdin",
     "output_type": "stream",
     "text": [
      "enter your name jagruti nanepag\n"
     ]
    },
    {
     "name": "stdout",
     "output_type": "stream",
     "text": [
      "jagruti nanepag\n"
     ]
    }
   ],
   "source": [
    "# you develop a py app for your comp. you req to accept input\n",
    "# from the usser and print thAT INFORMATION TO THE USER SCREEN\n",
    "name=input(\"enter your name\")\n",
    "print(name)"
   ]
  },
  {
   "cell_type": "code",
   "execution_count": 7,
   "id": "a528e5f7-32c8-43bf-868c-159cc299015f",
   "metadata": {},
   "outputs": [
    {
     "data": {
      "text/plain": [
       "False"
      ]
     },
     "execution_count": 7,
     "metadata": {},
     "output_type": "execute_result"
    }
   ],
   "source": [
    "type('') is bool"
   ]
  },
  {
   "cell_type": "code",
   "execution_count": 9,
   "id": "fd7ccac0-33ff-4e83-a341-84fc69cd17f0",
   "metadata": {},
   "outputs": [
    {
     "data": {
      "text/plain": [
       "False"
      ]
     },
     "execution_count": 9,
     "metadata": {},
     "output_type": "execute_result"
    }
   ],
   "source": [
    "True and False "
   ]
  },
  {
   "cell_type": "code",
   "execution_count": 11,
   "id": "4e8694ae-f7a7-4e1c-b472-2be87b7830a4",
   "metadata": {},
   "outputs": [
    {
     "data": {
      "text/plain": [
       "True"
      ]
     },
     "execution_count": 11,
     "metadata": {},
     "output_type": "execute_result"
    }
   ],
   "source": [
    "True or False\n"
   ]
  },
  {
   "cell_type": "code",
   "execution_count": 13,
   "id": "16684de1-d709-41b8-b0ec-0ff3995c730c",
   "metadata": {},
   "outputs": [
    {
     "data": {
      "text/plain": [
       "5"
      ]
     },
     "execution_count": 13,
     "metadata": {},
     "output_type": "execute_result"
    }
   ],
   "source": [
    "5+False "
   ]
  },
  {
   "cell_type": "code",
   "execution_count": 15,
   "id": "cd0dd8b4-1104-44ae-8fee-14c36f19b2c6",
   "metadata": {},
   "outputs": [
    {
     "data": {
      "text/plain": [
       "2"
      ]
     },
     "execution_count": 15,
     "metadata": {},
     "output_type": "execute_result"
    }
   ],
   "source": [
    "True + 1"
   ]
  },
  {
   "cell_type": "code",
   "execution_count": 17,
   "id": "b991045b-e740-48d5-bc43-232ca70d1cfe",
   "metadata": {},
   "outputs": [
    {
     "name": "stdout",
     "output_type": "stream",
     "text": [
      "True\n"
     ]
    }
   ],
   "source": [
    "print(not 0)\n"
   ]
  },
  {
   "cell_type": "code",
   "execution_count": 19,
   "id": "80b2be83-3e4b-4f38-befc-5a7d127a0d29",
   "metadata": {},
   "outputs": [
    {
     "name": "stdout",
     "output_type": "stream",
     "text": [
      "False\n"
     ]
    }
   ],
   "source": [
    "print(not 10)"
   ]
  },
  {
   "cell_type": "code",
   "execution_count": 21,
   "id": "0c368781-67fd-46ab-8a44-6871c057a128",
   "metadata": {},
   "outputs": [
    {
     "name": "stdout",
     "output_type": "stream",
     "text": [
      "True\n"
     ]
    }
   ],
   "source": [
    "print(not '')"
   ]
  },
  {
   "cell_type": "code",
   "execution_count": 23,
   "id": "3351e2df-2685-4dfc-bdb1-2776a5431434",
   "metadata": {},
   "outputs": [
    {
     "name": "stdout",
     "output_type": "stream",
     "text": [
      "False\n"
     ]
    }
   ],
   "source": [
    "print(not 'durga')"
   ]
  },
  {
   "cell_type": "code",
   "execution_count": 25,
   "id": "aa5664b4-7578-4e0d-8b7b-ea02a0da145e",
   "metadata": {},
   "outputs": [
    {
     "name": "stdout",
     "output_type": "stream",
     "text": [
      "True\n"
     ]
    }
   ],
   "source": [
    "print(not None)"
   ]
  },
  {
   "cell_type": "code",
   "execution_count": 29,
   "id": "980baa70-b65b-479b-8b3c-67b5fb30ee33",
   "metadata": {},
   "outputs": [
    {
     "name": "stdout",
     "output_type": "stream",
     "text": [
      "True\n",
      "False\n",
      "False\n",
      "False\n"
     ]
    }
   ],
   "source": [
    "l1=['sunny','bunny','chinny','vinny']\n",
    "l2=['sunny','bunny','chinny','vinny']\n",
    "print(l1 is not l2)\n",
    "print(l1 != l2)\n",
    "l1=l2\n",
    "print(l1 is not l2)\n",
    "print(l1 != l2)\n",
    "\n"
   ]
  },
  {
   "cell_type": "code",
   "execution_count": 35,
   "id": "fc6d30f2-64b3-45ca-85b6-40b04a1bbd5a",
   "metadata": {},
   "outputs": [
    {
     "data": {
      "text/plain": [
       "9"
      ]
     },
     "execution_count": 35,
     "metadata": {},
     "output_type": "execute_result"
    }
   ],
   "source": [
    "s='DURGA SOFT'\n",
    "len(s.replace(' ',''))"
   ]
  },
  {
   "cell_type": "code",
   "execution_count": 39,
   "id": "0058d3d4-ebc6-41f4-bb7f-fea071b0c2ac",
   "metadata": {},
   "outputs": [
    {
     "name": "stdout",
     "output_type": "stream",
     "text": [
      "AA\n"
     ]
    }
   ],
   "source": [
    "b='BANANA'\n",
    "print(b[1]+b[1])"
   ]
  },
  {
   "cell_type": "code",
   "execution_count": 41,
   "id": "a4be1bda-654e-4c02-94aa-58f1bdb875c8",
   "metadata": {},
   "outputs": [
    {
     "name": "stdout",
     "output_type": "stream",
     "text": [
      "False\n",
      "True\n",
      "True\n",
      "True\n"
     ]
    }
   ],
   "source": [
    "l1=['sunny','bunny','chinny','vinny']\n",
    "l2=['sunny','bunny','chinny','vinny']\n",
    "print(l1 is  l2)\n",
    "print(l1 == l2)\n",
    "l1=l2\n",
    "print(l1 is l2)\n",
    "print(l1 == l2)\n"
   ]
  },
  {
   "cell_type": "code",
   "execution_count": null,
   "id": "f7c3ea78-d6c4-41c3-810c-889afe27b9d6",
   "metadata": {},
   "outputs": [],
   "source": [
    "# v1=1\n",
    "# v2=0\n",
    "# v1=v1^v2\n",
    "# v2=v1^v2\n",
    "# v1"
   ]
  },
  {
   "cell_type": "code",
   "execution_count": 44,
   "id": "1b30fc28-333f-4af8-8e24-5226bc1a6689",
   "metadata": {},
   "outputs": [
    {
     "name": "stdin",
     "output_type": "stream",
     "text": [
      "Enter the number  15\n"
     ]
    },
    {
     "name": "stdout",
     "output_type": "stream",
     "text": [
      "20\n"
     ]
    }
   ],
   "source": [
    "c=input(\"Enter the number \")\n",
    "a=int(c)+5\n",
    "print(a)"
   ]
  },
  {
   "cell_type": "code",
   "execution_count": 46,
   "id": "4b092537-4fae-4a4e-905e-591cc2b001bf",
   "metadata": {},
   "outputs": [
    {
     "name": "stdin",
     "output_type": "stream",
     "text": [
      "Enter the number  12345\n"
     ]
    },
    {
     "name": "stdout",
     "output_type": "stream",
     "text": [
      "12346\n"
     ]
    }
   ],
   "source": [
    "c=input(\"Enter the number \")\n",
    "a=int(c)+1\n",
    "print(a)"
   ]
  },
  {
   "cell_type": "code",
   "execution_count": 48,
   "id": "2cdbbaf9-95f2-455f-9c73-1154a39177db",
   "metadata": {},
   "outputs": [
    {
     "data": {
      "text/plain": [
       "str"
      ]
     },
     "execution_count": 48,
     "metadata": {},
     "output_type": "execute_result"
    }
   ],
   "source": [
    "x='10'\n",
    "y='20'\n",
    "type(x+y)"
   ]
  },
  {
   "cell_type": "code",
   "execution_count": 50,
   "id": "9e88ea79-9018-4ea2-81c4-1f4da65ff8eb",
   "metadata": {},
   "outputs": [
    {
     "name": "stdout",
     "output_type": "stream",
     "text": [
      "False\n",
      "True\n"
     ]
    }
   ],
   "source": [
    "lst=[7,8,9]\n",
    "b=lst[:]\n",
    "print(b is lst)\n",
    "print(b==lst)"
   ]
  },
  {
   "cell_type": "markdown",
   "id": "fd2ef0eb-5941-475e-8f92-33345cfb1dc9",
   "metadata": {},
   "source": [
    "#### PDF3"
   ]
  },
  {
   "cell_type": "code",
   "execution_count": null,
   "id": "30133544-3017-4b26-b3c5-67c017922eb8",
   "metadata": {},
   "outputs": [],
   "source": [
    "# Q1.The XYZ organics company needs a simple program that their call center will use to enter survey data d=for a new coffe variety.\n",
    "# the program must accept input and return the avg rating based on five star scale.the output must be rounded to two decimal place."
   ]
  },
  {
   "cell_type": "code",
   "execution_count": null,
   "id": "a3bbc5a0-bd6c-4eaf-b2b0-865138b3f840",
   "metadata": {},
   "outputs": [],
   "source": [
    "sum=0\n",
    "count=0\n",
    "done=0\n",
    "while(done != -1):\n",
    "    rating=float(input(\"Enter Next rating(1-5),-1for done:\"))\n",
    "    if rating == -1:\n",
    "        break\n",
    "    sum+=rating\n",
    "    count+=1\n",
    "avg=float(sum/count)\n",
    "print('the avg star rating for the new coffee is:{:.2f}'.format(avg))"
   ]
  },
  {
   "cell_type": "code",
   "execution_count": 49,
   "id": "52cd0425-14b3-4d12-ad51-6f461ad75c4e",
   "metadata": {},
   "outputs": [
    {
     "name": "stdout",
     "output_type": "stream",
     "text": [
      "v:123.46\n",
      "v:123.40\n",
      "v:              1.46\n",
      "v:1.46\n"
     ]
    }
   ],
   "source": [
    "#consider the following statemnet:\n",
    "print('v:{:.2f}'.format(123.45678))\n",
    "print('v:{:.2f}'.format(123.4))\n",
    "print('v:{:18.2f}'.format(1.45678))\n",
    "print('v:{:1.2f}'.format(1.45678))"
   ]
  },
  {
   "cell_type": "code",
   "execution_count": 72,
   "id": "692dcb6a-9ee7-4288-8318-023174a02a36",
   "metadata": {},
   "outputs": [
    {
     "name": "stdout",
     "output_type": "stream",
     "text": [
      "0\n",
      "1\n",
      "2\n",
      "3\n",
      "4\n",
      "5\n",
      "6\n"
     ]
    }
   ],
   "source": [
    "#consider the following code:\n",
    "num=[0,1,2,3,4,5,6,7,8,9]\n",
    "index=0\n",
    "while(index<10):\n",
    "    print(num[index])\n",
    "    if num[index]==6:\n",
    "        break\n",
    "    else:\n",
    "        index+=1\n",
    "    \n"
   ]
  },
  {
   "cell_type": "code",
   "execution_count": 94,
   "id": "6afb370d-da52-47df-920a-22e0eb6ee6bc",
   "metadata": {},
   "outputs": [
    {
     "name": "stdin",
     "output_type": "stream",
     "text": [
      "enter your employee number(dd-ddd-ddd): 23-345-4567\n"
     ]
    },
    {
     "name": "stdout",
     "output_type": "stream",
     "text": [
      "True\n"
     ]
    }
   ],
   "source": [
    "# You are writing a Python program to validate employee numbers.The employee number must have the format dd-ddd-dddd and consists of only \n",
    "# numbers and dashes. The program must print True if the format is correct, otherwise print False.\n",
    "emp_no=input(\"enter your employee number(dd-ddd-ddd):\")\n",
    "part=emp_no.split('-')\n",
    "valid=False\n",
    "if len(part)==3:\n",
    "    if len(part[0])==2 and len(part[1])==3 and len(part[2])== 4:\n",
    "        if part[0].isdigit() and  part[1].isdigit()and  part[1].isdigit():\n",
    "            valid = True\n",
    "print(valid)\n"
   ]
  },
  {
   "cell_type": "code",
   "execution_count": 53,
   "id": "23568ec2-d48a-4b50-b263-3fea70e53372",
   "metadata": {},
   "outputs": [
    {
     "data": {
      "text/plain": [
       "'result is an imaginary number'"
      ]
     },
     "execution_count": 53,
     "metadata": {},
     "output_type": "execute_result"
    }
   ],
   "source": [
    "# write function to comput roots,the function meets the following req:\n",
    "# 1.if a is nonneg, return a**(1/b)\n",
    "# 2.if a is negative and even,return\"result is an imaginary number\"\n",
    "# 3. if a neg and odd,return-(-a)**(1/b)\n",
    "def comput_roots(a,b):\n",
    "    if a>=0:\n",
    "        ans=a**(1/b)\n",
    "    elif a%2==0:\n",
    "        ans =\"result is an imaginary number\"\n",
    "    else:\n",
    "        ans=-(-a)**(1/b)\n",
    "    return ans\n",
    "comput_roots(-2,3)"
   ]
  },
  {
   "cell_type": "code",
   "execution_count": 60,
   "id": "23e7081f-0746-4a7a-a090-9cdaec1136b3",
   "metadata": {},
   "outputs": [
    {
     "name": "stdin",
     "output_type": "stream",
     "text": [
      "Enter day of the week: monday\n"
     ]
    }
   ],
   "source": [
    "#write a program devloping a online shopping appplication\n",
    "d=input(\"Enter day of the week:\")\n",
    "discount=3\n",
    "if d.lower()=='monday':\n",
    "    discount+=5\n",
    "elif d.lower()=='tuesday':\n",
    "    discount+=5\n",
    "elif d.lower()=='saturday':\n",
    "    discount+=5\n",
    "elif d.lower()=='sunday':\n",
    "    discount+=5\n",
    "else:\n",
    "    discount+=2"
   ]
  },
  {
   "cell_type": "code",
   "execution_count": 76,
   "id": "c58f4bdb-0a83-47e5-bf46-4acc5c8a98d3",
   "metadata": {},
   "outputs": [
    {
     "name": "stdin",
     "output_type": "stream",
     "text": [
      "enter loan amount 50001\n"
     ]
    },
    {
     "name": "stdout",
     "output_type": "stream",
     "text": [
      "The intesert rate will be 12\n",
      "50013.0\n"
     ]
    }
   ],
   "source": [
    "amt=float(input(\"enter loan amount\"))\n",
    "int_rate=0\n",
    "if amt>0 and amt<=50000:\n",
    "    int_rate = 10\n",
    "elif amt>50000 and amt<=100000:\n",
    "    int_rate=12\n",
    "elif amt>100000 and amt<=150000:\n",
    "    int_rate=16\n",
    "else:\n",
    "    int_rate=22\n",
    "print(f\"The intesert rate will be {int_rate}\")\n",
    "print(amt+int_rate)\n",
    "    "
   ]
  },
  {
   "cell_type": "code",
   "execution_count": 92,
   "id": "e5d58cc4-1e7f-434f-98cf-50a7f4988198",
   "metadata": {},
   "outputs": [
    {
     "name": "stdin",
     "output_type": "stream",
     "text": [
      "Enter number of days for leave: 4\n",
      "Enter the reason offical\n"
     ]
    },
    {
     "name": "stdout",
     "output_type": "stream",
     "text": [
      "needs director approval\n"
     ]
    }
   ],
   "source": [
    "#we are developing for leave in Xyz company.\n",
    "days=int(input(\"Enter number of days for leave:\"))\n",
    "cause=input('Enter the reason')\n",
    "if days==1:\n",
    "    print('leave will be approved immediatly')\n",
    "elif days>1 and days <=3:\n",
    "    if cause=='sick':\n",
    "        print('leave will be appoved')\n",
    "    else:\n",
    "        print(\"needs lead approval\")\n",
    "elif days>3 and days<5:\n",
    "    if cause=='sick':\n",
    "        print('leave manager appoved')\n",
    "    else:\n",
    "        print(\"needs director approval\")\n",
    "elif days>=5 and days < 10:\n",
    "    print('needs director approval')\n",
    "    \n",
    "    \n"
   ]
  },
  {
   "cell_type": "code",
   "execution_count": 96,
   "id": "6ea0f936-e1da-45a3-9b88-f8a2911d71e9",
   "metadata": {},
   "outputs": [
    {
     "name": "stdout",
     "output_type": "stream",
     "text": [
      "C\n"
     ]
    }
   ],
   "source": [
    "marks=[30,40,50,45,50,100]\n",
    "avg=sum(marks)//len(marks)\n",
    "grade={1:'A',2:'B',3:'C',4:'D'}\n",
    "if avg>=90 and avg<=100:\n",
    "    key=1\n",
    "elif avg >= 80 and avg <90:\n",
    "    key =2\n",
    "elif avg >= 50 and avg < 80:\n",
    "    key=3\n",
    "else:\n",
    "    key =4\n",
    "print(grade[key])"
   ]
  },
  {
   "cell_type": "code",
   "execution_count": 112,
   "id": "843b719e-5361-4da7-87ab-31cfb5d91c67",
   "metadata": {},
   "outputs": [
    {
     "data": {
      "text/plain": [
       "(3.0, 9)"
      ]
     },
     "execution_count": 112,
     "metadata": {},
     "output_type": "execute_result"
    }
   ],
   "source": [
    "a=12\n",
    "b=4\n",
    "s='he shall not be hapy if he does not work'\n",
    "res= a/b\n",
    "res1=s.find('not') \n",
    "res,res1"
   ]
  },
  {
   "cell_type": "code",
   "execution_count": 124,
   "id": "4f58ef3c-4be0-4bd9-9b76-5126e357182b",
   "metadata": {},
   "outputs": [
    {
     "name": "stdout",
     "output_type": "stream",
     "text": [
      "350\n",
      "3350\n"
     ]
    }
   ],
   "source": [
    "#we are developing loan collection agent application.\n",
    "collected_amt=3000\n",
    "comm=0\n",
    "if collected_amt <= 2000:\n",
    "    comm = 50\n",
    "elif collected_amt > 2500 and collected_amt < 3000:\n",
    "    comm = 100\n",
    "elif collected_amt > 2500:\n",
    "    comm = 150\n",
    "    if collected_amt >=3000:\n",
    "        comm += 200\n",
    "print(comm)\n",
    "print(collected_amt+comm)"
   ]
  },
  {
   "cell_type": "code",
   "execution_count": 152,
   "id": "34c0c090-7b04-4d52-b3e1-a776faf29192",
   "metadata": {},
   "outputs": [
    {
     "name": "stdout",
     "output_type": "stream",
     "text": [
      "2\n"
     ]
    }
   ],
   "source": [
    "#count how many nested list in the list.\n",
    "l=[10,20,[30,40],[50,60]]\n",
    "count=0\n",
    "for i in range(len(l)):\n",
    "    if type(l[i])==list:\n",
    "        count+=1\n",
    "print(count)"
   ]
  },
  {
   "cell_type": "code",
   "execution_count": 166,
   "id": "557e5a9f-1a0f-4603-8629-877b7c601df5",
   "metadata": {},
   "outputs": [
    {
     "name": "stdout",
     "output_type": "stream",
     "text": [
      "7\n",
      "10\n",
      "14\n",
      "18\n",
      "19\n",
      "19\n"
     ]
    }
   ],
   "source": [
    "Q10.not understanding\n",
    "l=[10,(20,),{30},{},{},[40,50]]\n",
    "count=0\n",
    "for i in range(len(l)):\n",
    "    if type(l[i])==list:\n",
    "        count+=1\n",
    "        print(count)\n",
    "    elif type(l[i])==tuple:\n",
    "        count+=2\n",
    "        print(count)\n",
    "    elif type(l[i])==set:\n",
    "        count+=3\n",
    "        print(count)\n",
    "    elif type(l[i])==dict:\n",
    "        count+=4\n",
    "        print(count)\n",
    "    else:\n",
    "        count+=5\n",
    "print(count)\n"
   ]
  },
  {
   "cell_type": "code",
   "execution_count": 174,
   "id": "c6147bbf-d695-40d9-ab5d-b3bc8c3f2277",
   "metadata": {},
   "outputs": [
    {
     "name": "stdout",
     "output_type": "stream",
     "text": [
      "2\n",
      "4\n",
      "6\n",
      "13\n"
     ]
    }
   ],
   "source": [
    "t=(2,4,6,8,10,12)\n",
    "d={1:'A',2:'B',3:'C',4:'D',5:'E',6:'F'}\n",
    "result=1\n",
    "for i in t:\n",
    "    if i in d:\n",
    "        print(i)\n",
    "        \n",
    "        result+=i\n",
    "print(result)\n",
    "        "
   ]
  },
  {
   "cell_type": "code",
   "execution_count": 180,
   "id": "a7ccf2a4-ec87-45e4-bda2-1a839eece451",
   "metadata": {},
   "outputs": [
    {
     "name": "stdout",
     "output_type": "stream",
     "text": [
      "8\n",
      "10\n",
      "12\n",
      "31\n"
     ]
    }
   ],
   "source": [
    "t=(2,4,6,8,10,12)\n",
    "d={1:'A',2:'B',3:'C',4:'D',5:'E',6:'F'}\n",
    "result=1\n",
    "for i in t:\n",
    "    if i in d:\n",
    "        \n",
    "        continue\n",
    "    else:\n",
    "         \n",
    "        print(i)\n",
    "        result+=i\n",
    "print(result)\n",
    "        \n",
    "        \n"
   ]
  },
  {
   "cell_type": "code",
   "execution_count": 190,
   "id": "7f80716f-b4b2-4a51-b97d-940b746652e7",
   "metadata": {},
   "outputs": [
    {
     "name": "stdout",
     "output_type": "stream",
     "text": [
      "[3, 4, 5, 1]\n",
      "3\n",
      "4\n",
      "5\n",
      "1\n",
      "[33, 6, 1, 2]\n",
      "33\n",
      "6\n",
      "1\n",
      "2\n",
      "result 1\n"
     ]
    }
   ],
   "source": [
    "values=[[3,4,5,1],[33,6,1,2]]\n",
    "v=values[0][0]\n",
    "for lst in values:\n",
    "    print(lst)\n",
    "    for element in lst:\n",
    "        print(element)\n",
    "        if v > element:\n",
    "            v=element\n",
    "print('result',v)"
   ]
  },
  {
   "cell_type": "code",
   "execution_count": 200,
   "id": "d74dd8d1-1586-4d3f-bca4-8db436ac760b",
   "metadata": {},
   "outputs": [
    {
     "name": "stdout",
     "output_type": "stream",
     "text": [
      "['Chi', 'Vin', 'Pin']\n"
     ]
    }
   ],
   "source": [
    "def get_names():\n",
    "    names=['sunny','bunny','chinny','vinny','pinny']\n",
    "    return names[2:]\n",
    "def up(element):\n",
    "    new=[]\n",
    "    for name in element:\n",
    "        new.append(name[:3].title())\n",
    "    return new\n",
    "print(up(get_names()))"
   ]
  },
  {
   "cell_type": "code",
   "execution_count": 48,
   "id": "fca68148-994f-4875-99b1-900be2f80aa6",
   "metadata": {},
   "outputs": [
    {
     "name": "stdout",
     "output_type": "stream",
     "text": [
      "['chicken', 'mutton', 'fish']\n"
     ]
    }
   ],
   "source": [
    "# consider the following code to print [chicken,mutton,fish]\n",
    "# def my_list(x):\n",
    "#     lst.append(a)\n",
    "#     return lst\n",
    "# my_list('chicken')\n",
    "# my_list('mutton')\n",
    "# print(my_list('fish'))\n",
    "\n",
    "\n",
    "# def lst1(x):\n",
    "#     lst=[]\n",
    "#     for i in x:\n",
    "#         lst.append(i)\n",
    "#     print(lst)\n",
    "# x= ['chicken','mutton','fish']\n",
    "# lst1(x)\n",
    "\n",
    "lst = []\n",
    "def my_list(item):\n",
    "    lst.append(item)\n",
    "    return lst\n",
    "my_list('chicken')\n",
    "my_list('mutton')\n",
    "my_list('fish')\n",
    "\n"
   ]
  },
  {
   "cell_type": "code",
   "execution_count": 13,
   "id": "e0c06efd-4534-4d90-9db5-07aa1d330f56",
   "metadata": {},
   "outputs": [
    {
     "ename": "TypeError",
     "evalue": "can only concatenate str (not \"int\") to str",
     "output_type": "error",
     "traceback": [
      "\u001b[1;31m---------------------------------------------------------------------------\u001b[0m",
      "\u001b[1;31mTypeError\u001b[0m                                 Traceback (most recent call last)",
      "Cell \u001b[1;32mIn[13], line 7\u001b[0m\n\u001b[0;32m      5\u001b[0m f1(\u001b[38;5;241m10\u001b[39m,\u001b[38;5;241m20\u001b[39m)\n\u001b[0;32m      6\u001b[0m f1(\u001b[38;5;241m10\u001b[39m)\n\u001b[1;32m----> 7\u001b[0m f1(\u001b[38;5;124m'\u001b[39m\u001b[38;5;124m10\u001b[39m\u001b[38;5;124m'\u001b[39m)\n",
      "Cell \u001b[1;32mIn[13], line 3\u001b[0m, in \u001b[0;36mf1\u001b[1;34m(x, y)\u001b[0m\n\u001b[0;32m      2\u001b[0m \u001b[38;5;28;01mdef\u001b[39;00m \u001b[38;5;21mf1\u001b[39m(x\u001b[38;5;241m=\u001b[39m\u001b[38;5;241m0\u001b[39m,y\u001b[38;5;241m=\u001b[39m\u001b[38;5;241m0\u001b[39m):\n\u001b[1;32m----> 3\u001b[0m     \u001b[38;5;28;01mreturn\u001b[39;00m x\u001b[38;5;241m+\u001b[39my\n",
      "\u001b[1;31mTypeError\u001b[0m: can only concatenate str (not \"int\") to str"
     ]
    }
   ],
   "source": [
    "# Which of the following method calls are valid?\n",
    "def f1(x=0,y=0):\n",
    "    return x+y\n",
    "f1()\n",
    "f1(10,20)\n",
    "f1(10)\n",
    "f1('10')"
   ]
  },
  {
   "cell_type": "code",
   "execution_count": 35,
   "id": "0ffe7f8e-4b15-44df-858f-5b01ee9a2427",
   "metadata": {},
   "outputs": [
    {
     "name": "stdout",
     "output_type": "stream",
     "text": [
      "The highest numbner:100 and least number:10\n"
     ]
    }
   ],
   "source": [
    "#which of the following code should be inserted to print highest as 100 and least number as 10\n",
    "\n",
    "def find_number(num):\n",
    "    num.sort()\n",
    "    return num[0],num[-1]\n",
    "num1=[100,20,10,70,50,60,40,30,90,80]\n",
    "min,max=find_number(num1)\n",
    "print(f\"The highest numbner:{max} and least number:{min}\")"
   ]
  },
  {
   "cell_type": "code",
   "execution_count": 39,
   "id": "3f652c19-0650-4695-a863-e774d1632669",
   "metadata": {},
   "outputs": [
    {
     "data": {
      "text/plain": [
       "30"
      ]
     },
     "execution_count": 39,
     "metadata": {},
     "output_type": "execute_result"
    }
   ],
   "source": [
    "# consider the code ,Whch of the following calls return 30\n",
    "def calculate(amt=6,factor=3):\n",
    "    if amt>6:\n",
    "        return amt*factor\n",
    "    else:\n",
    "        return amt*factor*2\n",
    "calculate(amt=10)\n"
   ]
  },
  {
   "cell_type": "code",
   "execution_count": 45,
   "id": "d587297e-0071-4679-8e17-3ee7efb4b867",
   "metadata": {},
   "outputs": [
    {
     "name": "stdout",
     "output_type": "stream",
     "text": [
      "0,1,1,2,3,5,8,"
     ]
    }
   ],
   "source": [
    "#conssider the following code\n",
    "def fib_seq(n):\n",
    "    if n==0:\n",
    "        return 0\n",
    "    elif n==1:\n",
    "        return 1\n",
    "    else:\n",
    "        return fib_seq(n-1)+fib_seq(n-2)\n",
    "for i in range(7):\n",
    "    print(fib_seq(i),end=',')"
   ]
  },
  {
   "cell_type": "code",
   "execution_count": 51,
   "id": "89fd515a-add0-483a-aef5-cbd8fe6eaad3",
   "metadata": {},
   "outputs": [
    {
     "data": {
      "text/plain": [
       "59"
      ]
     },
     "execution_count": 51,
     "metadata": {},
     "output_type": "execute_result"
    }
   ],
   "source": [
    "#Write a program in py for online game:\n",
    "# the func is named udate_score\n",
    "# the function receives the current score and a value\n",
    "# the function adds the value to the current score\n",
    "# the function return the new score\n",
    "\n",
    "def update_score(score,value):\n",
    "    new_score=score+value\n",
    "    return new_score\n",
    "update_score(56,3)    \n",
    "    \n",
    "    \n",
    "    "
   ]
  },
  {
   "cell_type": "code",
   "execution_count": 71,
   "id": "d5b0e79f-204c-4b87-aa53-79c008d449d1",
   "metadata": {},
   "outputs": [
    {
     "name": "stdin",
     "output_type": "stream",
     "text": [
      "how many miles did you bike thid week: 45\n",
      "Enter your name: rdf\n"
     ]
    },
    {
     "name": "stdout",
     "output_type": "stream",
     "text": [
      "rdf  2250 \n"
     ]
    },
    {
     "name": "stdin",
     "output_type": "stream",
     "text": [
      "how many miles did you bike thid week: 43\n"
     ]
    },
    {
     "name": "stdout",
     "output_type": "stream",
     "text": [
      "7  2150 \n"
     ]
    }
   ],
   "source": [
    "#The XYZ company is creating a program that allows customer to log the number of miles biked. the program wil send \n",
    "# msg based on how many miles the customer log.consider the following py code:\n",
    "def get_name():\n",
    "    name=input(\"Enter your name:\")\n",
    "    return name\n",
    "def calc_calories( miles,calories_per_mile):\n",
    "    calories = miles*calories_per_mile\n",
    "    return calories\n",
    "\n",
    "distance=int(input(\"how many miles did you bike thid week:\"))\n",
    "burn_rates=50\n",
    "biker=get_name()\n",
    "calories_burned =calc_calories(distance,burn_rates)\n",
    "print(biker,\"\",calories_burned,\"\")\n",
    "\n",
    "\n",
    "# def get_name():\n",
    "#     name=input(\"Enter your name:\")\n",
    "#     return name\n",
    "# def calc_calories( miles,calories_per_mile):\n",
    "#     calories = miles*calories_per_mile\n",
    "#     return calories\n",
    "\n",
    "# distance=int(input(\"how many miles did you bike thid week:\"))\n",
    "# burn_rates=50\n",
    "# calories_burned=calc_calories(distance,burn_rates)\n",
    "# print(name,\"\",calories_burned,\"\")"
   ]
  },
  {
   "cell_type": "code",
   "execution_count": 107,
   "id": "191a1bff-f993-43a4-8f1d-0f1df2140a2c",
   "metadata": {},
   "outputs": [
    {
     "data": {
      "text/plain": [
       "'T'"
      ]
     },
     "execution_count": 107,
     "metadata": {},
     "output_type": "execute_result"
    }
   ],
   "source": [
    "# You work for a company that distributes media for all ages.\n",
    "# You are writing a function that assigns a rating based on a user's age. The function must meet the following requirements.\n",
    "\n",
    "# Anyone 18 years old or older receives a rating of \"A\"\n",
    "# Anyone 13 or older, but younger than 18, receives a rating of \"T\"\n",
    "# Anyone 12 years old or younger receives a rating of \"C\"\n",
    "# If the age is unknown, the rating is set to \"C\"\n",
    "\n",
    "\n",
    "# def distributes(age):\n",
    "#     if age >= 18:\n",
    "#         print(\"A\")\n",
    "#     elif 13 <= age < 18:\n",
    "#         print(\"T\")\n",
    "#     else:\n",
    "#         print(\"C\")\n",
    "# ages=int(input(\"enter the ages\"))\n",
    "# distributes(ages)\n",
    "\n",
    "\n",
    "\n",
    "def get_rating(age):\n",
    "    if age>=18:\n",
    "        rating='A'\n",
    "    elif age >= 13:\n",
    "        rating='T'\n",
    "    else:\n",
    "        rating='C'\n",
    "    return rating\n",
    "get_rating(17)"
   ]
  },
  {
   "cell_type": "code",
   "execution_count": 145,
   "id": "fd84e511-17a3-42fd-b83b-353c94cc78e2",
   "metadata": {},
   "outputs": [
    {
     "name": "stdin",
     "output_type": "stream",
     "text": [
      "Enter the alp symbol a\n"
     ]
    },
    {
     "name": "stdout",
     "output_type": "stream",
     "text": [
      "apple\n",
      "pears\n",
      "orange\n",
      "mango\n",
      "4\n"
     ]
    }
   ],
   "source": [
    "# Write a program to count letter from the given list\n",
    "\n",
    "# w=['apple','pears','orange','mango']\n",
    "# c=0\n",
    "# for i in w:    \n",
    "#     if 'a' in i:\n",
    "#         c+=1 \n",
    "# print(c)\n",
    "\n",
    "\n",
    "def count_letter(l,w):\n",
    "    c=0\n",
    "    for i in w:\n",
    "        print(i)\n",
    "        if l in i:\n",
    "            c+=1\n",
    "    return c\n",
    "w=['apple','pears','orange','mango']\n",
    "l=input(\"Enter the alp symbol\")\n",
    "letter_count=count_letter(l,w)\n",
    "print(letter_count)"
   ]
  },
  {
   "cell_type": "code",
   "execution_count": 155,
   "id": "ccd2c558-2449-48cf-9e09-fe79f1c2345c",
   "metadata": {},
   "outputs": [
    {
     "name": "stdout",
     "output_type": "stream",
     "text": [
      "h\n",
      "eh\n",
      "leh\n",
      "lleh\n",
      "olleh\n"
     ]
    }
   ],
   "source": [
    "#It is the program to reverse the contant of the given string\n",
    "start='hello'\n",
    "end=''\n",
    "for i in range(0,len(start)):\n",
    "    # print(start[i])\n",
    "    end=start[i]+end\n",
    "    print(end)\n"
   ]
  },
  {
   "cell_type": "code",
   "execution_count": 157,
   "id": "e7c0c66c-a13b-45c5-85e2-fe1f31ddd8f6",
   "metadata": {},
   "outputs": [
    {
     "name": "stdout",
     "output_type": "stream",
     "text": [
      "[13, 40, 17, 10]\n"
     ]
    }
   ],
   "source": [
    "# write a program to add int 40 at index 1?\n",
    "x=[13,4,17,10]\n",
    "w=x[1:]\n",
    "u=x[1:]\n",
    "y=x\n",
    "u[0]=50\n",
    "y[1]=40\n",
    "print(x)"
   ]
  },
  {
   "cell_type": "code",
   "execution_count": 159,
   "id": "ef965a45-ae7f-4955-972d-7b144a358439",
   "metadata": {},
   "outputs": [
    {
     "data": {
      "text/plain": [
       "16"
      ]
     },
     "execution_count": 159,
     "metadata": {},
     "output_type": "execute_result"
    }
   ],
   "source": [
    "# write a function to calculate the power of a number by using python\n",
    "def calc_power(x,y):\n",
    "    comments= x**y\n",
    "    return comments\n",
    "calc_power(2,4)"
   ]
  },
  {
   "cell_type": "code",
   "execution_count": 3,
   "id": "cfe4737c-9799-4f3e-b824-830bad2743e8",
   "metadata": {},
   "outputs": [
    {
     "name": "stdin",
     "output_type": "stream",
     "text": [
      "Enter your Marks: 576\n"
     ]
    },
    {
     "name": "stdout",
     "output_type": "stream",
     "text": [
      "GRADE A\n"
     ]
    }
   ],
   "source": [
    "#Write a python script to convert student markd into grade . the grade are defined as follow:\n",
    "# 90 through 100---. A grade\n",
    "# 80 through 89---. B grade\n",
    "# 70 through 79---. C grade\n",
    "# 65 through 69---. D grade\n",
    "# 0 through 64---. E grade\n",
    "\n",
    "def student(marks):\n",
    "    if marks >= 90:        \n",
    "        print(\"GRADE A\")\n",
    "    elif 80 <= marks <=89:\n",
    "        print(\"GRADE B\")\n",
    "    elif 70 <= marks <=79:\n",
    "         print(\"GRADE C\")\n",
    "    elif 65 <= marks <=69:\n",
    "        print(\"GRADE D\")\n",
    "    else:\n",
    "        print(\"GRADE E\")\n",
    "# name=input(\"Enter your Name:\")\n",
    "mark=int(input(\"Enter your Marks:\"))\n",
    "student(mark)        \n",
    "   \n",
    "    "
   ]
  },
  {
   "cell_type": "code",
   "execution_count": 1,
   "id": "ec6afaf9-0ffb-4efb-8804-1996e5308f53",
   "metadata": {},
   "outputs": [
    {
     "name": "stdout",
     "output_type": "stream",
     "text": [
      "6\n"
     ]
    }
   ],
   "source": [
    "# You are developing a Python application for an online product distribution company. You need\n",
    "# the program to iterate through a list of products and escape when a target product ID is found.\n",
    "product_list=[0,1,2,3,4,5,6,7,8]\n",
    "index=0\n",
    "while index < len(product_list):\n",
    "    if product_list[index]==6:\n",
    "        print(product_list[index])\n",
    "        break\n",
    "    else:\n",
    "        index+=1\n",
    "    \n",
    "\n",
    "# for i in product_list:\n",
    "#     if i == 6:\n",
    "#         print(\" product ID is found\")\n",
    "#         break\n",
    "#     else:\n",
    "#         print(\"not found\")        \n"
   ]
  },
  {
   "cell_type": "code",
   "execution_count": 13,
   "id": "80017c28-6e2f-4413-be83-3c26de74ef25",
   "metadata": {},
   "outputs": [
    {
     "name": "stdout",
     "output_type": "stream",
     "text": [
      "2 3 5 7 11 13 17 19 23 29 31 37 41 43 47 53 59 61 67 71 73 79 83 89 97 101 103 107 109 113 127 131 137 139 149 151 157 163 167 173 179 181 191 193 197 199 "
     ]
    }
   ],
   "source": [
    "# Write a py program that display all prime number from 2 to 200?\n",
    "# p=2\n",
    "# while p <= 200:\n",
    "#     is_prime=True\n",
    "#     for i in range(2,201):\n",
    "#         if p % i == 0:\n",
    "#             is_prime = False\n",
    "#             break\n",
    "    \n",
    "#     if is_prime == True:\n",
    "#         print(p)\n",
    "#     p=p+1\n",
    "\n",
    "p = 2\n",
    "while p <= 200:\n",
    "    is_prime = True\n",
    "    for i in range(2, int(p ** 0.5) + 1):  # Loop till the square root of p\n",
    "        if p % i == 0:\n",
    "            is_prime = False\n",
    "            break\n",
    "    \n",
    "    if is_prime:\n",
    "        print(p,end=' ')  # Print prime numbers\n",
    "    p = p + 1\n",
    "            "
   ]
  },
  {
   "cell_type": "code",
   "execution_count": 36,
   "id": "c7c92b07-5f3c-4b91-b029-43262c88d73c",
   "metadata": {},
   "outputs": [
    {
     "name": "stdin",
     "output_type": "stream",
     "text": [
      "enter the room number: 2\n"
     ]
    },
    {
     "name": "stdout",
     "output_type": "stream",
     "text": [
      "The room name is:Right Conference Room\n"
     ]
    }
   ],
   "source": [
    "# you create the folloeing programe to locate a conference room and display room name.\n",
    "# rooms={1:'Left Conference Room',2:'Right Conference Room'}\n",
    "# room=input(\"enter the room number:\"))\n",
    "# if  not room  in rooms:\n",
    "#     print(\"Room does not exist\")\n",
    "# else:\n",
    "#     print(\"The room name is:\"+rooms[room])\n",
    "\n",
    "rooms={1:'Left Conference Room',2:'Right Conference Room'}\n",
    "room=int(input(\"enter the room number:\"))\n",
    "if  room not in rooms:\n",
    "    print(\"Room does not exist\")\n",
    "else:\n",
    "    print(\"The room name is:\"+rooms[room])\n",
    "\n"
   ]
  },
  {
   "cell_type": "code",
   "execution_count": 44,
   "id": "ca731613-3ab0-403e-b55f-5257384bedf7",
   "metadata": {},
   "outputs": [
    {
     "name": "stdin",
     "output_type": "stream",
     "text": [
      "Enter the book return before 9pm yes or no no\n",
      "How many day the book rentes 5\n",
      "IS book rented on saturday or sunday sunday\n"
     ]
    },
    {
     "name": "stdout",
     "output_type": "stream",
     "text": [
      "The cost of book Rental is 0.9\n"
     ]
    }
   ],
   "source": [
    "# The XYZ Book Company needs a way to determine the cost that a student will pay for renting a Book.\n",
    "# The Cost is dependent on the time of the Book is returned.\n",
    "# However there are also special rates on Saturday and Sundays.\n",
    "# The Fee Structure is shown in the following list:\n",
    "# The cost is $3.00 per night.\n",
    "# If the Book is returned after 9PM, the student will be charged an extra day.\n",
    "# If the Book is rented on a Sunday, the student will get 50% off for as long as they the keep the book.\n",
    "# If the Book is rented on a Saturday, the student will get 30% off for as long as they keep the book.\n",
    "# We need to write the code to meet this requirements.\n",
    "ontime=input(\"Enter the book return before 9pm yes or no\").lower()\n",
    "dayrent=int(input(\"How many day the book rentes\"))\n",
    "day=input(\"IS book rented on saturday or sunday\").capitalize()\n",
    "cost=3.00\n",
    "\n",
    "if ontime == 'no':\n",
    "    dayrent=dayrent+1\n",
    "if day == 'Sunday':\n",
    "    t=(dayrent*cost)*0.05\n",
    "elif day == ' Saturday':\n",
    "     t=(dayrent*cost)*0.03\n",
    "else:\n",
    "     t=(dayrent*cost)\n",
    "print(\"The cost of book Rental is\",t)\n",
    "    \n",
    "\n",
    "\n",
    "\n"
   ]
  },
  {
   "cell_type": "code",
   "execution_count": 64,
   "id": "0647d24f-74c0-41bc-abf7-2cc8fbf19860",
   "metadata": {},
   "outputs": [],
   "source": [
    "#if student ,arles between 80 and 100 , the we have to offer A GRADE\n",
    "mark=78\n",
    "if 80 <= mark <= 100:\n",
    "    print(\"A\")\n",
    "    "
   ]
  },
  {
   "cell_type": "markdown",
   "id": "42ef3bca-e799-4b72-a234-c0e800f7a008",
   "metadata": {},
   "source": [
    "#### PDF 4"
   ]
  },
  {
   "cell_type": "raw",
   "id": "8a51ea97-6420-4727-b3f7-35eeee833d8d",
   "metadata": {},
   "source": [
    "TRY, FINALLY AND EXCEPT \n",
    "means: A try statement can have one or more except clauses\n",
    "A try statement can have a finally clause without an except clause\n",
    "A try statement can have a finally clause and an except clause"
   ]
  },
  {
   "cell_type": "code",
   "execution_count": 73,
   "id": "634f6950-f75c-418b-b2eb-470b1f2f6ed7",
   "metadata": {},
   "outputs": [
    {
     "data": {
      "text/plain": [
       "' This is my first line\\n'"
      ]
     },
     "execution_count": 73,
     "metadata": {},
     "output_type": "execute_result"
    }
   ],
   "source": [
    "#conside the code:\n",
    "f=open(\"B104.txt\")\n",
    "# f.readall()# attributeError\n",
    "f.readline()"
   ]
  },
  {
   "cell_type": "code",
   "execution_count": 77,
   "id": "7ff1477a-dbd5-4946-9dc2-88d702fd6288",
   "metadata": {},
   "outputs": [
    {
     "name": "stdout",
     "output_type": "stream",
     "text": [
      "2\n"
     ]
    }
   ],
   "source": [
    "# Consider the code:\n",
    "# Note: Finally block return statement has more priority than try block return statemnet\n",
    "def f1():\n",
    "    try:\n",
    "        return 1\n",
    "    finally:\n",
    "        return 2\n",
    "x=f1()\n",
    "print(x)\n"
   ]
  },
  {
   "cell_type": "code",
   "execution_count": 79,
   "id": "7729340d-4d2e-4f2a-99e6-39a87e224a50",
   "metadata": {},
   "outputs": [
    {
     "name": "stdout",
     "output_type": "stream",
     "text": [
      "try\n",
      "else\n",
      "finally\n"
     ]
    }
   ],
   "source": [
    "try:\n",
    "    print(\"try\")\n",
    "except:\n",
    "     print(\"except\")\n",
    "else:\n",
    "     print(\"else\")\n",
    "finally:\n",
    "     print(\"finally\")"
   ]
  },
  {
   "cell_type": "code",
   "execution_count": 81,
   "id": "a77c843e-1cb7-4308-80f1-673a2ffee3d4",
   "metadata": {},
   "outputs": [
    {
     "name": "stdout",
     "output_type": "stream",
     "text": [
      "try\n",
      "except\n",
      "finally\n"
     ]
    }
   ],
   "source": [
    "try:\n",
    "    print(\"try\")\n",
    "    print(10/0)\n",
    "except:\n",
    "     print(\"except\")\n",
    "else:\n",
    "     print(\"else\")\n",
    "finally:\n",
    "     print(\"finally\")"
   ]
  },
  {
   "cell_type": "code",
   "execution_count": 87,
   "id": "231ee1b1-9c5d-45c7-a646-f9e3c04fcc97",
   "metadata": {},
   "outputs": [
    {
     "ename": "ZeroDivisionError",
     "evalue": "division by zero",
     "output_type": "error",
     "traceback": [
      "\u001b[1;31m---------------------------------------------------------------------------\u001b[0m",
      "\u001b[1;31mZeroDivisionError\u001b[0m                         Traceback (most recent call last)",
      "Cell \u001b[1;32mIn[87], line 1\u001b[0m\n\u001b[1;32m----> 1\u001b[0m \u001b[38;5;28mprint\u001b[39m(\u001b[38;5;241m10\u001b[39m\u001b[38;5;241m/\u001b[39m\u001b[38;5;241m0\u001b[39m)\n",
      "\u001b[1;31mZeroDivisionError\u001b[0m: division by zero"
     ]
    }
   ],
   "source": [
    "  print(10/0)"
   ]
  },
  {
   "cell_type": "code",
   "execution_count": 91,
   "id": "d04e6cab-834a-4a71-a5b0-7ddae3eb14fe",
   "metadata": {},
   "outputs": [
    {
     "ename": "SyntaxError",
     "evalue": "expected 'except' or 'finally' block (1858419662.py, line 6)",
     "output_type": "error",
     "traceback": [
      "\u001b[1;36m  Cell \u001b[1;32mIn[91], line 6\u001b[1;36m\u001b[0m\n\u001b[1;33m    else:\u001b[0m\n\u001b[1;37m    ^\u001b[0m\n\u001b[1;31mSyntaxError\u001b[0m\u001b[1;31m:\u001b[0m expected 'except' or 'finally' block\n"
     ]
    }
   ],
   "source": [
    "# Note: In try Except - else- finally the order is important. \n",
    "# After except block only we have to take else block\n",
    "try:\n",
    "    print(\"try\")\n",
    "    print(10/0)\n",
    "else:\n",
    "     print(\"else\")\n",
    "except:\n",
    "     print(\"except\")\n",
    "finally:\n",
    "     print(\"finally\")"
   ]
  },
  {
   "cell_type": "code",
   "execution_count": 97,
   "id": "b4833a96-8f9b-4f67-8507-273146f37e92",
   "metadata": {},
   "outputs": [
    {
     "ename": "FileNotFoundError",
     "evalue": "[Errno 2] No such file or directory: 'abc.txt'",
     "output_type": "error",
     "traceback": [
      "\u001b[1;31m---------------------------------------------------------------------------\u001b[0m",
      "\u001b[1;31mFileNotFoundError\u001b[0m                         Traceback (most recent call last)",
      "Cell \u001b[1;32mIn[97], line 1\u001b[0m\n\u001b[1;32m----> 1\u001b[0m f\u001b[38;5;241m=\u001b[39m\u001b[38;5;28mopen\u001b[39m(\u001b[38;5;124m\"\u001b[39m\u001b[38;5;124mabc.txt\u001b[39m\u001b[38;5;124m\"\u001b[39m)\n\u001b[0;32m      2\u001b[0m \u001b[38;5;28mprint\u001b[39m(f\u001b[38;5;241m.\u001b[39mread())\n\u001b[0;32m      3\u001b[0m f\u001b[38;5;241m.\u001b[39mclose()\n",
      "File \u001b[1;32m~\\anaconda3\\Lib\\site-packages\\IPython\\core\\interactiveshell.py:324\u001b[0m, in \u001b[0;36m_modified_open\u001b[1;34m(file, *args, **kwargs)\u001b[0m\n\u001b[0;32m    317\u001b[0m \u001b[38;5;28;01mif\u001b[39;00m file \u001b[38;5;129;01min\u001b[39;00m {\u001b[38;5;241m0\u001b[39m, \u001b[38;5;241m1\u001b[39m, \u001b[38;5;241m2\u001b[39m}:\n\u001b[0;32m    318\u001b[0m     \u001b[38;5;28;01mraise\u001b[39;00m \u001b[38;5;167;01mValueError\u001b[39;00m(\n\u001b[0;32m    319\u001b[0m         \u001b[38;5;124mf\u001b[39m\u001b[38;5;124m\"\u001b[39m\u001b[38;5;124mIPython won\u001b[39m\u001b[38;5;124m'\u001b[39m\u001b[38;5;124mt let you open fd=\u001b[39m\u001b[38;5;132;01m{\u001b[39;00mfile\u001b[38;5;132;01m}\u001b[39;00m\u001b[38;5;124m by default \u001b[39m\u001b[38;5;124m\"\u001b[39m\n\u001b[0;32m    320\u001b[0m         \u001b[38;5;124m\"\u001b[39m\u001b[38;5;124mas it is likely to crash IPython. If you know what you are doing, \u001b[39m\u001b[38;5;124m\"\u001b[39m\n\u001b[0;32m    321\u001b[0m         \u001b[38;5;124m\"\u001b[39m\u001b[38;5;124myou can use builtins\u001b[39m\u001b[38;5;124m'\u001b[39m\u001b[38;5;124m open.\u001b[39m\u001b[38;5;124m\"\u001b[39m\n\u001b[0;32m    322\u001b[0m     )\n\u001b[1;32m--> 324\u001b[0m \u001b[38;5;28;01mreturn\u001b[39;00m io_open(file, \u001b[38;5;241m*\u001b[39margs, \u001b[38;5;241m*\u001b[39m\u001b[38;5;241m*\u001b[39mkwargs)\n",
      "\u001b[1;31mFileNotFoundError\u001b[0m: [Errno 2] No such file or directory: 'abc.txt'"
     ]
    }
   ],
   "source": [
    "#We required to add exception handling code to handle FileNotFoundError. \n",
    "f=open(\"abc.txt\")\n",
    "print(f.read())\n",
    "f.close()"
   ]
  },
  {
   "cell_type": "code",
   "execution_count": 99,
   "id": "583b37d6-4f96-42ba-b652-0cf196953bbf",
   "metadata": {},
   "outputs": [
    {
     "name": "stdout",
     "output_type": "stream",
     "text": [
      "File not found.. try again\n"
     ]
    }
   ],
   "source": [
    "try:\n",
    "    f=open(\"abc.txt\")\n",
    "except FileNotFoundError:\n",
    "    print(\"File not found.. try again\")\n",
    "else:\n",
    "       print(f.read())\n",
    "finally:\n",
    "      f.close()\n",
    "    \n",
    "    "
   ]
  },
  {
   "cell_type": "code",
   "execution_count": 107,
   "id": "49b157fc-0b50-462f-90b9-249986b78129",
   "metadata": {},
   "outputs": [
    {
     "name": "stdout",
     "output_type": "stream",
     "text": [
      "unsupported operand type(s) for +: 'int' and 's':\n"
     ]
    }
   ],
   "source": [
    "a=10\n",
    "b=20\n",
    "c='10'\n",
    "try:\n",
    "    result=a+b+c    \n",
    "except TypeError:\n",
    "    print(\"unsupported operand type(s) for +: 'int' and 's':\")\n",
    "else:\n",
    "    print(result)"
   ]
  },
  {
   "cell_type": "code",
   "execution_count": 3,
   "id": "55b66b18-ea21-4af4-8fa9-bcdf2ca046b7",
   "metadata": {},
   "outputs": [
    {
     "name": "stdout",
     "output_type": "stream",
     "text": [
      "81.5\n"
     ]
    }
   ],
   "source": [
    "# \n",
    "prices=[30.5,'40.5',10.5]\n",
    "total=0\n",
    "for p in prices:\n",
    "    \n",
    "    total+=float(p)\n",
    "print(total)\n",
    "#while executing this code we are getting the following error:\n",
    "# ValueError;"
   ]
  },
  {
   "cell_type": "code",
   "execution_count": 8,
   "id": "e8cd5234-28cf-4611-8da4-22018eb9c54f",
   "metadata": {},
   "outputs": [
    {
     "name": "stdout",
     "output_type": "stream",
     "text": [
      "100\n"
     ]
    }
   ],
   "source": [
    "# \n",
    "prices=[30,'20',10,'40']\n",
    "total=0\n",
    "for p in prices:\n",
    "    \n",
    "    total+=int(p)\n",
    "print(total)"
   ]
  },
  {
   "cell_type": "code",
   "execution_count": 22,
   "id": "e7506204-655f-47a2-b7e8-be5706ba0edd",
   "metadata": {},
   "outputs": [
    {
     "name": "stdout",
     "output_type": "stream",
     "text": [
      "JAVA\n",
      "PYTHON\n",
      "SCALE\n"
     ]
    },
    {
     "ename": "KeyError",
     "evalue": "4",
     "output_type": "error",
     "traceback": [
      "\u001b[1;31m---------------------------------------------------------------------------\u001b[0m",
      "\u001b[1;31mKeyError\u001b[0m                                  Traceback (most recent call last)",
      "Cell \u001b[1;32mIn[22], line 3\u001b[0m\n\u001b[0;32m      1\u001b[0m course\u001b[38;5;241m=\u001b[39m{\u001b[38;5;241m1\u001b[39m:\u001b[38;5;124m'\u001b[39m\u001b[38;5;124mJAVA\u001b[39m\u001b[38;5;124m'\u001b[39m,\u001b[38;5;241m2\u001b[39m:\u001b[38;5;124m'\u001b[39m\u001b[38;5;124mPYTHON\u001b[39m\u001b[38;5;124m'\u001b[39m,\u001b[38;5;241m3\u001b[39m:\u001b[38;5;124m'\u001b[39m\u001b[38;5;124mSCALE\u001b[39m\u001b[38;5;124m'\u001b[39m}\n\u001b[0;32m      2\u001b[0m \u001b[38;5;28;01mfor\u001b[39;00m i \u001b[38;5;129;01min\u001b[39;00m \u001b[38;5;28mrange\u001b[39m(\u001b[38;5;241m1\u001b[39m,\u001b[38;5;241m5\u001b[39m):\n\u001b[1;32m----> 3\u001b[0m     \u001b[38;5;28mprint\u001b[39m(course[i])\n",
      "\u001b[1;31mKeyError\u001b[0m: 4"
     ]
    }
   ],
   "source": [
    "course={1:'JAVA',2:'PYTHON',3:'SCALE'}\n",
    "for i in range(1,5):\n",
    "    print(course[i])\n",
    "    "
   ]
  },
  {
   "cell_type": "code",
   "execution_count": 32,
   "id": "abdd323a-69f5-476c-933a-252be5ddcc3f",
   "metadata": {},
   "outputs": [],
   "source": [
    "# course={1:'JAVA',2:'PYTHON',3:'SCALE'}\n",
    "# for i in course:\n",
    "#     print(course[i])\n",
    "\n",
    "# course={1:'JAVA',2:'PYTHON',3:'SCALE'}\n",
    "# for i in range(1,5):\n",
    "#     if i in course:\n",
    "#         print(course[i])\n",
    "\n",
    "# course={1:'JAVA',2:'PYTHON',3:'SCALE'}\n",
    "# for i in range(1,4):\n",
    "#     print(course[i])\n",
    "\n"
   ]
  },
  {
   "cell_type": "code",
   "execution_count": 34,
   "id": "1cfc4173-8ca9-4fac-8042-d6db9fd30936",
   "metadata": {},
   "outputs": [
    {
     "ename": "NameError",
     "evalue": "name 'B' is not defined",
     "output_type": "error",
     "traceback": [
      "\u001b[1;31m---------------------------------------------------------------------------\u001b[0m",
      "\u001b[1;31mNameError\u001b[0m                                 Traceback (most recent call last)",
      "Cell \u001b[1;32mIn[34], line 3\u001b[0m\n\u001b[0;32m      1\u001b[0m \u001b[38;5;28;01mdef\u001b[39;00m \u001b[38;5;21marea\u001b[39m(b,w):\n\u001b[0;32m      2\u001b[0m     \u001b[38;5;28;01mreturn\u001b[39;00m B\u001b[38;5;241m*\u001b[39mw\n\u001b[1;32m----> 3\u001b[0m \u001b[38;5;28mprint\u001b[39m(area(\u001b[38;5;241m10\u001b[39m,\u001b[38;5;241m20\u001b[39m))\n",
      "Cell \u001b[1;32mIn[34], line 2\u001b[0m, in \u001b[0;36marea\u001b[1;34m(b, w)\u001b[0m\n\u001b[0;32m      1\u001b[0m \u001b[38;5;28;01mdef\u001b[39;00m \u001b[38;5;21marea\u001b[39m(b,w):\n\u001b[1;32m----> 2\u001b[0m     \u001b[38;5;28;01mreturn\u001b[39;00m B\u001b[38;5;241m*\u001b[39mw\n",
      "\u001b[1;31mNameError\u001b[0m: name 'B' is not defined"
     ]
    }
   ],
   "source": [
    "def area(b,w):\n",
    "    return B*w\n",
    "print(area(10,20))"
   ]
  },
  {
   "cell_type": "code",
   "execution_count": 38,
   "id": "78079573-c253-4630-92b6-503e24cccbbc",
   "metadata": {},
   "outputs": [
    {
     "ename": "ZeroDivisionError",
     "evalue": "division by zero",
     "output_type": "error",
     "traceback": [
      "\u001b[1;31m---------------------------------------------------------------------------\u001b[0m",
      "\u001b[1;31mZeroDivisionError\u001b[0m                         Traceback (most recent call last)",
      "Cell \u001b[1;32mIn[38], line 4\u001b[0m\n\u001b[0;32m      2\u001b[0m     result\u001b[38;5;241m=\u001b[39m\u001b[38;5;28mint\u001b[39m(valid)\u001b[38;5;241m/\u001b[39m\u001b[38;5;28mint\u001b[39m(total)\n\u001b[0;32m      3\u001b[0m     \u001b[38;5;28;01mreturn\u001b[39;00m result\n\u001b[1;32m----> 4\u001b[0m get_score(\u001b[38;5;241m0\u001b[39m\u001b[38;5;241m/\u001b[39m\u001b[38;5;241m10\u001b[39m)\n",
      "Cell \u001b[1;32mIn[38], line 2\u001b[0m, in \u001b[0;36mget_score\u001b[1;34m(total, valid)\u001b[0m\n\u001b[0;32m      1\u001b[0m \u001b[38;5;28;01mdef\u001b[39;00m \u001b[38;5;21mget_score\u001b[39m(total\u001b[38;5;241m=\u001b[39m\u001b[38;5;241m0\u001b[39m,valid\u001b[38;5;241m=\u001b[39m\u001b[38;5;241m0\u001b[39m):\n\u001b[1;32m----> 2\u001b[0m     result\u001b[38;5;241m=\u001b[39m\u001b[38;5;28mint\u001b[39m(valid)\u001b[38;5;241m/\u001b[39m\u001b[38;5;28mint\u001b[39m(total)\n\u001b[0;32m      3\u001b[0m     \u001b[38;5;28;01mreturn\u001b[39;00m result\n",
      "\u001b[1;31mZeroDivisionError\u001b[0m: division by zero"
     ]
    }
   ],
   "source": [
    "def get_score(total=0,valid=0):\n",
    "    result=int(valid)/int(total)\n",
    "    return result\n",
    "get_score(0/10)"
   ]
  },
  {
   "cell_type": "code",
   "execution_count": 44,
   "id": "c50b1e82-e1c3-4eb4-8f8d-5d3ca3c8a2a2",
   "metadata": {},
   "outputs": [
    {
     "name": "stdin",
     "output_type": "stream",
     "text": [
      "enter the mark: 10\n",
      "enter the mark: 20\n",
      "enter the mark: 30\n",
      "enter the mark: 40\n"
     ]
    },
    {
     "name": "stdout",
     "output_type": "stream",
     "text": [
      "25.0\n"
     ]
    }
   ],
   "source": [
    "data=[]\n",
    "def get_data():\n",
    "    for i in range(1,5):\n",
    "        mark=int(input(\"enter the mark:\"))\n",
    "        data.append(mark)\n",
    "def get_avg():\n",
    "    sum=0\n",
    "    for mark in data:\n",
    "        sum+=mark\n",
    "    return sum/len(data)\n",
    "get_data()\n",
    "print(get_avg())\n",
    "    "
   ]
  },
  {
   "cell_type": "code",
   "execution_count": 46,
   "id": "236845db-aaa1-4286-8d7d-706008feae06",
   "metadata": {},
   "outputs": [
    {
     "name": "stdout",
     "output_type": "stream",
     "text": [
      "division by zero\n"
     ]
    }
   ],
   "source": [
    "a=10\n",
    "b=0\n",
    "try:\n",
    "    print(a/b)\n",
    "except:\n",
    "    print(\"division by zero\")\n",
    "else:\n",
    "    print(\" find ZeroDivisionError\")"
   ]
  },
  {
   "cell_type": "code",
   "execution_count": 54,
   "id": "d2d8cd15-529e-41ee-8ce1-6a57e30e1477",
   "metadata": {},
   "outputs": [],
   "source": [
    "#Which of the following is valid way of creating our own custom exception?\n",
    "class MyException(Exception):\n",
    "    pass\n",
    "# To define custom exception, compulsory we have to create child class for\n",
    "# BaseException either directy or indirectly"
   ]
  },
  {
   "cell_type": "code",
   "execution_count": 56,
   "id": "0957ece6-0a8a-4f71-b426-a214159abb91",
   "metadata": {},
   "outputs": [
    {
     "ename": "SyntaxError",
     "evalue": "incomplete input (2502307647.py, line 4)",
     "output_type": "error",
     "traceback": [
      "\u001b[1;36m  Cell \u001b[1;32mIn[56], line 4\u001b[1;36m\u001b[0m\n\u001b[1;33m    print(x/y)\u001b[0m\n\u001b[1;37m              ^\u001b[0m\n\u001b[1;31mSyntaxError\u001b[0m\u001b[1;31m:\u001b[0m incomplete input\n"
     ]
    }
   ],
   "source": [
    "x=int(input())\n",
    "y=int(input())\n",
    "try:\n",
    "    print(x/y)\n"
   ]
  },
  {
   "cell_type": "code",
   "execution_count": 60,
   "id": "41696762-ff06-4a65-a822-ff76ce8d49dc",
   "metadata": {},
   "outputs": [],
   "source": [
    "#consider the folowing code:\n",
    "import os\n",
    "def get_data(filename,mode):\n",
    "    if os.path.isfile(filename):\n",
    "        with open(filename,'r') as file:\n",
    "            return file.readline()\n",
    "    else:\n",
    "        return None\n",
    "        "
   ]
  },
  {
   "cell_type": "raw",
   "id": "9a1b6b97-aa88-4d4b-9e6f-a53d9bc19091",
   "metadata": {},
   "source": [
    "# #Write spy program for the following req:\n",
    "# each line of the file must be read and printed\n",
    "# if the blank line encountered, it must be ignored\n",
    "# when all lines have been read,the file must be closed\n",
    "inventory=open(\"B104.txt\",mode='r')\n",
    "eof=False\n",
    "while eof==False:\n",
    "    line=inventory.readline()\n",
    "    if line!='':\n",
    "        if line != '\\n':\n",
    "     else:\n",
    "        print(\"end of the line\")\n",
    "        eof=True\n",
    "        inventory.close()\n",
    "            \n"
   ]
  },
  {
   "cell_type": "code",
   "execution_count": 21,
   "id": "ce7e7067-fcbe-46ff-9801-dec11bf824f9",
   "metadata": {},
   "outputs": [
    {
     "name": "stdout",
     "output_type": "stream",
     "text": [
      " This is my first line\n",
      "\n",
      " This is my second line\n",
      "\n",
      " This is my third line\n",
      "\n",
      " This is my last line\n",
      "\n",
      "\n"
     ]
    }
   ],
   "source": [
    "#we are create a function that reads a data file and prints each line of that file.\n",
    "import os\n",
    "def read_file(file):\n",
    "    line=None\n",
    "    if os.path.isfile(file):\n",
    "        data = open(file,'r')\n",
    "    while line != '':\n",
    "        line=data.readline()\n",
    "        print(line)\n",
    "read_file(\"B104.txt\")\n",
    "    "
   ]
  },
  {
   "cell_type": "code",
   "execution_count": 39,
   "id": "7c097fb0-42b9-44f1-b413-e8e8779008d9",
   "metadata": {},
   "outputs": [
    {
     "ename": "NameError",
     "evalue": "name 'file_name' is not defined",
     "output_type": "error",
     "traceback": [
      "\u001b[1;31m---------------------------------------------------------------------------\u001b[0m",
      "\u001b[1;31mFileNotFoundError\u001b[0m                         Traceback (most recent call last)",
      "Cell \u001b[1;32mIn[39], line 3\u001b[0m\n\u001b[0;32m      2\u001b[0m \u001b[38;5;28;01mtry\u001b[39;00m:\n\u001b[1;32m----> 3\u001b[0m     file_in\u001b[38;5;241m=\u001b[39m\u001b[38;5;28mopen\u001b[39m(\u001b[38;5;124m'\u001b[39m\u001b[38;5;124mB10.txt\u001b[39m\u001b[38;5;124m'\u001b[39m,\u001b[38;5;124m'\u001b[39m\u001b[38;5;124mr\u001b[39m\u001b[38;5;124m'\u001b[39m)\n\u001b[0;32m      4\u001b[0m     file_out\u001b[38;5;241m=\u001b[39m\u001b[38;5;28mopen\u001b[39m(\u001b[38;5;124m'\u001b[39m\u001b[38;5;124mout.txt\u001b[39m\u001b[38;5;124m'\u001b[39m,\u001b[38;5;124m'\u001b[39m\u001b[38;5;124mw+\u001b[39m\u001b[38;5;124m'\u001b[39m)\n",
      "File \u001b[1;32m~\\anaconda3\\Lib\\site-packages\\IPython\\core\\interactiveshell.py:324\u001b[0m, in \u001b[0;36m_modified_open\u001b[1;34m(file, *args, **kwargs)\u001b[0m\n\u001b[0;32m    318\u001b[0m     \u001b[38;5;28;01mraise\u001b[39;00m \u001b[38;5;167;01mValueError\u001b[39;00m(\n\u001b[0;32m    319\u001b[0m         \u001b[38;5;124mf\u001b[39m\u001b[38;5;124m\"\u001b[39m\u001b[38;5;124mIPython won\u001b[39m\u001b[38;5;124m'\u001b[39m\u001b[38;5;124mt let you open fd=\u001b[39m\u001b[38;5;132;01m{\u001b[39;00mfile\u001b[38;5;132;01m}\u001b[39;00m\u001b[38;5;124m by default \u001b[39m\u001b[38;5;124m\"\u001b[39m\n\u001b[0;32m    320\u001b[0m         \u001b[38;5;124m\"\u001b[39m\u001b[38;5;124mas it is likely to crash IPython. If you know what you are doing, \u001b[39m\u001b[38;5;124m\"\u001b[39m\n\u001b[0;32m    321\u001b[0m         \u001b[38;5;124m\"\u001b[39m\u001b[38;5;124myou can use builtins\u001b[39m\u001b[38;5;124m'\u001b[39m\u001b[38;5;124m open.\u001b[39m\u001b[38;5;124m\"\u001b[39m\n\u001b[0;32m    322\u001b[0m     )\n\u001b[1;32m--> 324\u001b[0m \u001b[38;5;28;01mreturn\u001b[39;00m io_open(file, \u001b[38;5;241m*\u001b[39margs, \u001b[38;5;241m*\u001b[39m\u001b[38;5;241m*\u001b[39mkwargs)\n",
      "\u001b[1;31mFileNotFoundError\u001b[0m: [Errno 2] No such file or directory: 'B10.txt'",
      "\nDuring handling of the above exception, another exception occurred:\n",
      "\u001b[1;31mNameError\u001b[0m                                 Traceback (most recent call last)",
      "Cell \u001b[1;32mIn[39], line 6\u001b[0m\n\u001b[0;32m      4\u001b[0m     file_out\u001b[38;5;241m=\u001b[39m\u001b[38;5;28mopen\u001b[39m(\u001b[38;5;124m'\u001b[39m\u001b[38;5;124mout.txt\u001b[39m\u001b[38;5;124m'\u001b[39m,\u001b[38;5;124m'\u001b[39m\u001b[38;5;124mw+\u001b[39m\u001b[38;5;124m'\u001b[39m)\n\u001b[0;32m      5\u001b[0m \u001b[38;5;28;01mexcept\u001b[39;00m:\n\u001b[1;32m----> 6\u001b[0m     \u001b[38;5;28mprint\u001b[39m(\u001b[38;5;124m\"\u001b[39m\u001b[38;5;124mcannot open\u001b[39m\u001b[38;5;124m\"\u001b[39m,file_name)\n\u001b[0;32m      7\u001b[0m \u001b[38;5;28;01melse\u001b[39;00m:\n\u001b[0;32m      8\u001b[0m     i\u001b[38;5;241m=\u001b[39m\u001b[38;5;241m1\u001b[39m\n",
      "\u001b[1;31mNameError\u001b[0m: name 'file_name' is not defined"
     ]
    }
   ],
   "source": [
    "import sys#standard library : its provide access to system-specifiec paprameters and function:\n",
    "try:\n",
    "    file_in=open('B104.txt','r')\n",
    "    file_out=open('out.txt','w+')\n",
    "except:\n",
    "    print(\"cannot open\",file_name)\n",
    "else:\n",
    "    i=1\n",
    "    for line in file_in:\n",
    "        print(line.rstrip())\n",
    "        file_out.write(str(i)+\":\"+line)\n",
    "        i=i+1\n",
    "file_in.close()\n",
    "file_out.close()   \n",
    "    \n",
    "    \n",
    "                   "
   ]
  },
  {
   "cell_type": "code",
   "execution_count": 1,
   "id": "3b490df5-bab1-4e24-8c0d-093747783c3f",
   "metadata": {},
   "outputs": [
    {
     "name": "stdout",
     "output_type": "stream",
     "text": [
      "100.0\n"
     ]
    }
   ],
   "source": [
    "values=0\n",
    "try:\n",
    "    f=open('abcd.txt','r')\n",
    "    cont=f.readlines()\n",
    "    for linr in cont:\n",
    "        values+=float(linr.split(\":\")[1])\n",
    "        f.close()\n",
    "except Exception:\n",
    "    print(\"unable to open the file\")\n",
    "print(values)\n"
   ]
  },
  {
   "cell_type": "code",
   "execution_count": 7,
   "id": "0a939efa-f847-43d1-9ef9-263289f29e43",
   "metadata": {},
   "outputs": [
    {
     "name": "stdout",
     "output_type": "stream",
     "text": [
      "\n"
     ]
    }
   ],
   "source": [
    "#\n",
    "with open('out.txt','a+') as f:\n",
    "    f.write(\"new voters info\")\n",
    "    # f.seek(0)\n",
    "    data=f.read()\n",
    "    print(data)\n",
    "    "
   ]
  },
  {
   "cell_type": "code",
   "execution_count": 25,
   "id": "447d302a-0e23-47c6-a0cf-a3a35ddf438c",
   "metadata": {},
   "outputs": [
    {
     "name": "stdout",
     "output_type": "stream",
     "text": [
      "-124\n",
      "123.456\n"
     ]
    }
   ],
   "source": [
    "# #=Note: Fabs(x) returns the absolute values of x\n",
    "# floor return the largest int less than or equal to x\n",
    "# hence the following line perfrom the required operation\n",
    "from math import sqrt as sq\n",
    "x=-123.456\n",
    "print(math.floor(x))\n",
    "print(math.fabs(x))\n"
   ]
  },
  {
   "cell_type": "code",
   "execution_count": 27,
   "id": "8bb6b8ef-39c8-4800-abe0-5648dd4db709",
   "metadata": {},
   "outputs": [
    {
     "name": "stdout",
     "output_type": "stream",
     "text": [
      "['3', '3', '3', '3', '3']\n"
     ]
    }
   ],
   "source": [
    "i= [str(round(math.pi)) for i in range(1,6)]\n",
    "print(i)"
   ]
  },
  {
   "cell_type": "code",
   "execution_count": 45,
   "id": "723a2fa7-a681-46be-9621-650f0c8aa45a",
   "metadata": {},
   "outputs": [
    {
     "data": {
      "text/plain": [
       "28.274333882308138"
      ]
     },
     "execution_count": 45,
     "metadata": {},
     "output_type": "execute_result"
    }
   ],
   "source": [
    "import math\n",
    "def find_area(r):\n",
    "    return math.pi*math.pow(r,2)\n",
    "find_area(3)"
   ]
  },
  {
   "cell_type": "code",
   "execution_count": 35,
   "id": "831ba0ba-afd0-4e41-9c11-2ac5912e4f43",
   "metadata": {},
   "outputs": [
    {
     "data": {
      "text/plain": [
       "10"
      ]
     },
     "execution_count": 35,
     "metadata": {},
     "output_type": "execute_result"
    }
   ],
   "source": [
    "import random\n",
    "random.randint(5,11)\n",
    "random.randrange(5,12,1)"
   ]
  },
  {
   "cell_type": "code",
   "execution_count": null,
   "id": "720147dc-b428-4e56-89f3-1bee46c05093",
   "metadata": {},
   "outputs": [],
   "source": []
  },
  {
   "cell_type": "code",
   "execution_count": null,
   "id": "42f16439-431f-46a5-b7a7-2e91853a1e72",
   "metadata": {},
   "outputs": [],
   "source": []
  }
 ],
 "metadata": {
  "kernelspec": {
   "display_name": "Python 3 (ipykernel)",
   "language": "python",
   "name": "python3"
  },
  "language_info": {
   "codemirror_mode": {
    "name": "ipython",
    "version": 3
   },
   "file_extension": ".py",
   "mimetype": "text/x-python",
   "name": "python",
   "nbconvert_exporter": "python",
   "pygments_lexer": "ipython3",
   "version": "3.12.4"
  }
 },
 "nbformat": 4,
 "nbformat_minor": 5
}
