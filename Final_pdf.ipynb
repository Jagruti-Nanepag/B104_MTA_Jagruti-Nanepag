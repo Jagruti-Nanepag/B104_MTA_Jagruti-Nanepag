{
 "cells": [
  {
   "cell_type": "code",
   "execution_count": 5,
   "id": "94914c1d-1767-4562-814d-7f1c45f1cd75",
   "metadata": {},
   "outputs": [
    {
     "name": "stdout",
     "output_type": "stream",
     "text": [
      "[7, 9, 5, 6, 1, 4, 8]\n"
     ]
    }
   ],
   "source": [
    "# Q. What will be the output of this code\n",
    "import random\n",
    "print(random.sample(range(10),7))\n",
    "# Note:range(10) represents va;uess from 0 to 9 only. Hence random. sample(range(10),7  print list of 7 unique random numnber from 0 to 9\n",
    "                                                                        "
   ]
  },
  {
   "cell_type": "code",
   "execution_count": 15,
   "id": "d32a1032-5be2-4d66-b5da-2dc7d0585ee6",
   "metadata": {},
   "outputs": [
    {
     "name": "stdout",
     "output_type": "stream",
     "text": [
      "<class 'float'>\n",
      "<class 'str'>\n",
      "<class 'float'>\n"
     ]
    }
   ],
   "source": [
    "#Q The types of weight,zip and value variable respectively:\n",
    "weight =62.4\n",
    "zip='80098'\n",
    "value=+23e4\n",
    "print(type(weight))\n",
    "print(type(zip))\n",
    "print(type(value))\n",
    "\n"
   ]
  },
  {
   "cell_type": "code",
   "execution_count": 23,
   "id": "98583684-692c-415c-b0fb-7381252820fa",
   "metadata": {},
   "outputs": [
    {
     "name": "stdin",
     "output_type": "stream",
     "text": [
      "How old were you at the the time of joining? 24\n",
      "How old are you today: 60\n"
     ]
    },
    {
     "name": "stdout",
     "output_type": "stream",
     "text": [
      "Congratulations 36 year of Service:\n"
     ]
    }
   ],
   "source": [
    "#Q Which of the following code is valid to print Congratulations message?\n",
    "start=int(input(\"How old were you at the the time of joining?\"))\n",
    "end=int(input(\"How old are you today:\"))\n",
    "print(\"Congratulations \"  + str(int(end)-int(start)) + \" year of Service:\")\n",
    "# Note:To use + operotor for string types, compulsory both arguments must be str type,otherwise we will get error."
   ]
  },
  {
   "cell_type": "code",
   "execution_count": null,
   "id": "8e76019a-83f2-4131-b0b5-e4a61fa4acaf",
   "metadata": {},
   "outputs": [],
   "source": [
    "# You are developing a python application for your company.\n",
    "# A list named employees contains 600 employee names, the last 3 being company management.\n",
    "# You need to slice employees to display all employees excluding management.\n",
    "# Which two code segments we should use?\n",
    "emp[-3]\n",
    "emp[0:-3]"
   ]
  },
  {
   "cell_type": "code",
   "execution_count": 29,
   "id": "7d6ad315-7de7-4692-b958-5b0d9041ac50",
   "metadata": {},
   "outputs": [
    {
     "name": "stdin",
     "output_type": "stream",
     "text": [
      "Enter the distance travelled in feet: 344\n",
      "Enter the time elapsed in second: 3\n"
     ]
    },
    {
     "name": "stdout",
     "output_type": "stream",
     "text": [
      "The average velocity 78.18181818181819 mile/hour\n"
     ]
    }
   ],
   "source": [
    "# Q you intern XYZ company. you have to create a function that calculates the avg velocity on a 2640(1/2 mile)track\n",
    "distance=float(input(\"Enter the distance travelled in feet:\"))\n",
    "miles=distance/5280 #(1 miles)\n",
    "time=float(input(\"Enter the time elapsed in second:\"))\n",
    "hours=time/3600 #(second/minute)\n",
    "velocity= miles/hours\n",
    "print(\"The average velocity\",velocity,\"mile/hour\")\n",
    "\n"
   ]
  },
  {
   "cell_type": "code",
   "execution_count": 35,
   "id": "234974bc-d931-4f85-ad2d-920dcad1a861",
   "metadata": {},
   "outputs": [
    {
     "name": "stdin",
     "output_type": "stream",
     "text": [
      "Enter your Name jagruti Nanepag\n"
     ]
    },
    {
     "name": "stdout",
     "output_type": "stream",
     "text": [
      "My name is jagruti Nanepag and I am Data analyst\n"
     ]
    }
   ],
   "source": [
    "#Q you req to accept input from the uuser and print that information to user screen.\n",
    "fullname=input(\"Enter your Name\")\n",
    "print(f\"My name is {fullname} and I am Data analyst\")"
   ]
  },
  {
   "cell_type": "code",
   "execution_count": 37,
   "id": "89c1fc1d-951a-4993-9bc7-bc28bbaf4c9a",
   "metadata": {},
   "outputs": [],
   "source": [
    "#QThe XYZ Company has hired you as an intern on the coding team that creates a e- commerce application.You must write a script that asks the user for\n",
    "# a value.The value must be used as a whole number in a calculation, even if the user enters a decimal value. \n",
    "# Which of the following meets this requirement?\n",
    "items=int(float(input(\"How many items you req:\"))"
   ]
  },
  {
   "cell_type": "code",
   "execution_count": 49,
   "id": "36e7c2ca-d356-45a9-9f1d-087301d899d9",
   "metadata": {},
   "outputs": [
    {
     "name": "stdin",
     "output_type": "stream",
     "text": [
      "Enter Next Rating(1-5),-1 for done 5\n",
      "Enter Next Rating(1-5),-1 for done -1\n"
     ]
    },
    {
     "name": "stdout",
     "output_type": "stream",
     "text": [
      "The average star rating for the new coffee is:5.00\n"
     ]
    }
   ],
   "source": [
    "# Q The XYZ organics company needs a simple program that their call center will use to enter survey data for a new coffee variety. The program must accept input and return the average rating based on a five-star scale. The output must be rounded to two decimal places.\n",
    "sum=0\n",
    "count=0\n",
    "done=0\n",
    "while(done != -1):\n",
    "    rating=float(input(\"Enter Next Rating(1-5),-1 for done\"))\n",
    "    if rating==-1:\n",
    "        break\n",
    "    sum+=rating\n",
    "    count+=1\n",
    "average=float(sum/count)\n",
    "print(\"The average star rating for the new coffee is:{:.2f}\".format(average))"
   ]
  },
  {
   "cell_type": "code",
   "execution_count": 79,
   "id": "ae3e8cb1-d210-4a92-a69f-5b8db1432278",
   "metadata": {},
   "outputs": [
    {
     "name": "stdin",
     "output_type": "stream",
     "text": [
      "Enter your Name: jagruti nanepag\n",
      "Enter the score(-1 to end) 67\n",
      "Enter the score(-1 to end) 87\n",
      "Enter the score(-1 to end) -1\n"
     ]
    },
    {
     "name": "stdout",
     "output_type": "stream",
     "text": [
      "jagruti nanepag     ,your average score is:77.0\n"
     ]
    }
   ],
   "source": [
    "# Q We are developing a sports application. Our program should allow players to enter their name and score.\n",
    "# The program will print player name and his average score. Output must meet the following requirements:\n",
    "# The user name must be left aligned. If the user name is fewer than 20 characters additional space must be added to the right. \n",
    "# The average score must be 3 places to the left of decimal point and one place to the right of decimal point (like YYY.Y).\n",
    "name=input(\"Enter your Name:\")\n",
    "score=0\n",
    "count=0\n",
    "sum=0\n",
    "while score !=-1:\n",
    "    score=int(input(\"Enter the score(-1 to end)\"))\n",
    "    if score==-1:\n",
    "        break\n",
    "    sum+=score\n",
    "    count+=1\n",
    "average=sum/count\n",
    "print('%-20s,your average score is:%4.1f' %(name,average))\n",
    "#Note: If the number less than 4 length then space will be added at left hand side '%04.if minimum 4 length.\n",
    "# it will consider mininum 20 length.if it is less than 20 then spaces will be padded at right hand side \n",
    "# print('%-20f,your average score is:%4.1f' %(name,average))\n",
    "# print('%-20s,your average score is:%1.4f' %(name,average))\n",
    "# print('%-20s,your average score is:%4.1s' %(name,average))"
   ]
  },
  {
   "cell_type": "code",
   "execution_count": 81,
   "id": "4fca0e39-0923-4683-8cbb-3d669a5b34f4",
   "metadata": {},
   "outputs": [
    {
     "name": "stdout",
     "output_type": "stream",
     "text": [
      "0\n",
      "1\n",
      "2\n",
      "3\n",
      "4\n",
      "5\n",
      "6\n"
     ]
    }
   ],
   "source": [
    "#Q To print 0 to 6, which changes we have to perfrom in the above code?\n",
    "n=[0,1,2,3,4,5,6,7,8,9]\n",
    "i=0\n",
    "while (i<10):\n",
    "    print(n[i])\n",
    "    if n[i]==6:\n",
    "        break\n",
    "    else:\n",
    "        i+=1\n"
   ]
  },
  {
   "cell_type": "code",
   "execution_count": 83,
   "id": "541843ab-3eba-4029-83b0-d3dc76cea581",
   "metadata": {},
   "outputs": [
    {
     "name": "stdin",
     "output_type": "stream",
     "text": [
      "enter your employee number(dd-ddd-ddd): 3erfd\n"
     ]
    },
    {
     "name": "stdout",
     "output_type": "stream",
     "text": [
      "False\n"
     ]
    }
   ],
   "source": [
    "# You are writing a Python program to validate employee numbers.The employee number must have the format dd-ddd-dddd and consists of only \n",
    "# numbers and dashes. The program must print True if the format is correct, otherwise print False.\n",
    "emp_no=input(\"enter your employee number(dd-ddd-ddd):\")\n",
    "part=emp_no.split('-')\n",
    "valid=False\n",
    "if len(part)==3:\n",
    "    if len(part[0])==2 and len(part[1])==3 and len(part[2])== 4:\n",
    "        if part[0].isdigit() and  part[1].isdigit()and  part[1].isdigit():\n",
    "            valid = True\n",
    "print(valid)\n",
    "    "
   ]
  },
  {
   "cell_type": "code",
   "execution_count": 15,
   "id": "2d948672-27fa-49d8-beec-c5719a111501",
   "metadata": {},
   "outputs": [
    {
     "data": {
      "text/plain": [
       "1.7320508075688772"
      ]
     },
     "execution_count": 15,
     "metadata": {},
     "output_type": "execute_result"
    }
   ],
   "source": [
    "# write function to comput roots,the function meets the following req:\n",
    "# 1.if r is nonneg, return r**(1/b)\n",
    "# 2.if r is negative and even,return\"result is an imaginary number\"\n",
    "# 3. if r neg and odd,return-(-r)**(1/b)\n",
    "def root(r,s):\n",
    "    if r >= 0:\n",
    "        result=r**(1/s)\n",
    "    elif r%2==0:\n",
    "        result=\"Result is an imaginary number\"\n",
    "    else:\n",
    "        result=-(-r)**(1/s)\n",
    "    return result\n",
    "root(111,2)\n",
    "root(-1,2) \n",
    "root(3,2)"
   ]
  },
  {
   "cell_type": "code",
   "execution_count": 17,
   "id": "2c26bcf2-ec4d-4d68-bae9-5f9b03d8e0dd",
   "metadata": {},
   "outputs": [
    {
     "name": "stdin",
     "output_type": "stream",
     "text": [
      "Enter your Marks: 90\n"
     ]
    },
    {
     "name": "stdout",
     "output_type": "stream",
     "text": [
      "GRADE A\n"
     ]
    }
   ],
   "source": [
    "#Write a python script to convert student markd into grade . the grade are defined as follow:\n",
    "# 90 through 100---. A grade\n",
    "# 80 through 89---. B grade\n",
    "# 70 through 79---. C grade\n",
    "# 65 through 69---. D grade\n",
    "# 0 through 64---. E grade\n",
    "\n",
    "def student(marks):\n",
    "    if marks >= 90:        \n",
    "        print(\"GRADE A\")\n",
    "    elif 80 <= marks <=89:\n",
    "        print(\"GRADE B\")\n",
    "    elif 70 <= marks <=79:\n",
    "         print(\"GRADE C\")\n",
    "    elif 65 <= marks <=69:\n",
    "        print(\"GRADE D\")\n",
    "    else:\n",
    "        print(\"GRADE E\")\n",
    "# name=input(\"Enter your Name:\")\n",
    "mark=int(input(\"Enter your Marks:\"))\n",
    "student(mark)        "
   ]
  },
  {
   "cell_type": "code",
   "execution_count": 19,
   "id": "56591aab-27f8-4e11-9d6b-1fd4dd696077",
   "metadata": {},
   "outputs": [
    {
     "name": "stdout",
     "output_type": "stream",
     "text": [
      "6\n"
     ]
    }
   ],
   "source": [
    "# You are developing a Python application for an online product distribution company. You need\n",
    "# the program to iterate through a list of products and escape when a target product ID is found.\n",
    "product_list=[0,1,2,3,4,5,6,7,8]\n",
    "index=0\n",
    "while index < len(product_list):\n",
    "    if product_list[index]==6:\n",
    "        print(product_list[index])\n",
    "        break\n",
    "    else:\n",
    "        index+=1\n",
    "    \n",
    "\n",
    "# for i in product_list:\n",
    "#     if i == 6:\n",
    "#         print(\" product ID is found\")\n",
    "#         break\n",
    "#     else:\n",
    "#         print(\"not found\") "
   ]
  },
  {
   "cell_type": "code",
   "execution_count": 23,
   "id": "07bd31cf-a11f-44b1-b0b9-9503d894f765",
   "metadata": {},
   "outputs": [
    {
     "name": "stdout",
     "output_type": "stream",
     "text": [
      "2 3 5 7 11 13 17 19 23 29 31 37 41 43 47 53 59 61 67 71 73 79 83 89 97 101 103 107 109 113 127 131 137 139 149 151 157 163 167 173 179 181 191 193 197 199 "
     ]
    }
   ],
   "source": [
    " # Write a py program that display all prime number from 2 to 200?\n",
    "# p=2\n",
    "# while p <= 200:\n",
    "#     is_prime=True\n",
    "#     for i in range(2,201):\n",
    "#         if p % i == 0:\n",
    "#             is_prime = False\n",
    "#             break\n",
    "    \n",
    "#     if is_prime == True:\n",
    "#         print(p)\n",
    "#     p=p+1\n",
    "\n",
    "p = 2\n",
    "while p <= 200:\n",
    "    is_prime = True\n",
    "    for i in range(2, int(p ** 0.5) + 1):  # Loop till the square root of p\n",
    "        if p % i == 0:\n",
    "            is_prime = False\n",
    "            break\n",
    "    \n",
    "    if is_prime:\n",
    "        print(p,end=' ')  # Print prime numbers\n",
    "    p = p + 1\n",
    "            "
   ]
  },
  {
   "cell_type": "code",
   "execution_count": 25,
   "id": "664abe20-ad2d-4508-8e13-bb5485903604",
   "metadata": {},
   "outputs": [
    {
     "name": "stdin",
     "output_type": "stream",
     "text": [
      "enter the room number: 56\n"
     ]
    },
    {
     "name": "stdout",
     "output_type": "stream",
     "text": [
      "Room does not exist\n"
     ]
    }
   ],
   "source": [
    " # you create the folloeing programe to locate a conference room and display room name.\n",
    "# rooms={1:'Left Conference Room',2:'Right Conference Room'}\n",
    "# room=input(\"enter the room number:\"))\n",
    "# if  not room  in rooms:\n",
    "#     print(\"Room does not exist\")\n",
    "# else:\n",
    "#     print(\"The room name is:\"+rooms[room])\n",
    "\n",
    "rooms={1:'Left Conference Room',2:'Right Conference Room'}\n",
    "room=int(input(\"enter the room number:\"))\n",
    "if  room not in rooms:\n",
    "    print(\"Room does not exist\")\n",
    "else:\n",
    "    print(\"The room name is:\"+rooms[room])\n",
    "\n"
   ]
  },
  {
   "cell_type": "code",
   "execution_count": 27,
   "id": "0a16ad09-7cf3-4098-b257-7a21b6264539",
   "metadata": {},
   "outputs": [
    {
     "name": "stdin",
     "output_type": "stream",
     "text": [
      "Enter the book return before 9pm yes or no yes\n",
      "How many day the book rentes 3\n",
      "IS book rented on saturday or sunday sunday\n"
     ]
    },
    {
     "name": "stdout",
     "output_type": "stream",
     "text": [
      "The cost of book Rental is 0.45\n"
     ]
    }
   ],
   "source": [
    "# The XYZ Book Company needs a way to determine the cost that a student will pay for renting a Book.\n",
    "# The Cost is dependent on the time of the Book is returned.\n",
    "# However there are also special rates on Saturday and Sundays.\n",
    "# The Fee Structure is shown in the following list:\n",
    "# The cost is $3.00 per night.\n",
    "# If the Book is returned after 9PM, the student will be charged an extra day.\n",
    "# If the Book is rented on a Sunday, the student will get 50% off for as long as they the keep the book.\n",
    "# If the Book is rented on a Saturday, the student will get 30% off for as long as they keep the book.\n",
    "# We need to write the code to meet this requirements.\n",
    "ontime=input(\"Enter the book return before 9pm yes or no\").lower()\n",
    "dayrent=int(input(\"How many day the book rentes\"))\n",
    "day=input(\"IS book rented on saturday or sunday\").capitalize()\n",
    "cost=3.00\n",
    "\n",
    "if ontime == 'no':\n",
    "    dayrent=dayrent+1\n",
    "if day == 'Sunday':\n",
    "    t=(dayrent*cost)*0.05\n",
    "elif day == ' Saturday':\n",
    "     t=(dayrent*cost)*0.03\n",
    "else:\n",
    "     t=(dayrent*cost)\n",
    "print(\"The cost of book Rental is\",t)"
   ]
  },
  {
   "cell_type": "code",
   "execution_count": 29,
   "id": "d5a04f7f-797f-45e7-82b1-62c5e91db13c",
   "metadata": {},
   "outputs": [
    {
     "data": {
      "text/plain": [
       "59"
      ]
     },
     "execution_count": 29,
     "metadata": {},
     "output_type": "execute_result"
    }
   ],
   "source": [
    "#Write a program in py for online game:\n",
    "# the func is named udate_score\n",
    "# the function receives the current score and a value\n",
    "# the function adds the value to the current score\n",
    "# the function return the new score\n",
    "\n",
    "def update_score(score,value):\n",
    "    new_score=score+value\n",
    "    return new_score\n",
    "update_score(56,3)    \n",
    "    "
   ]
  },
  {
   "cell_type": "code",
   "execution_count": 31,
   "id": "f26674ad-292c-468a-b297-d44fa43963ca",
   "metadata": {},
   "outputs": [
    {
     "name": "stdin",
     "output_type": "stream",
     "text": [
      "how many miles did you bike thid week: 12\n",
      "Enter your name: 12\n"
     ]
    },
    {
     "name": "stdout",
     "output_type": "stream",
     "text": [
      "12  600 \n"
     ]
    }
   ],
   "source": [
    "#The XYZ company is creating a program that allows customer to log the number of miles biked. the program wil send \n",
    "# msg based on how many miles the customer log.consider the following py code:\n",
    "def get_name():\n",
    "    name=input(\"Enter your name:\")\n",
    "    return name\n",
    "def calc_calories( miles,calories_per_mile):\n",
    "    calories = miles*calories_per_mile\n",
    "    return calories\n",
    "\n",
    "distance=int(input(\"how many miles did you bike thid week:\"))\n",
    "burn_rates=50\n",
    "biker=get_name()\n",
    "calories_burned =calc_calories(distance,burn_rates)\n",
    "print(biker,\"\",calories_burned,\"\")\n"
   ]
  },
  {
   "cell_type": "code",
   "execution_count": 35,
   "id": "9015e197-641f-44fe-b21e-9b85e3bda819",
   "metadata": {},
   "outputs": [
    {
     "data": {
      "text/plain": [
       "'T'"
      ]
     },
     "execution_count": 35,
     "metadata": {},
     "output_type": "execute_result"
    }
   ],
   "source": [
    "# You work for a company that distributes media for all ages.\n",
    "# You are writing a function that assigns a rating based on a user's age. The function must meet the following requirements.\n",
    "\n",
    "# Anyone 18 years old or older receives a rating of \"A\"\n",
    "# Anyone 13 or older, but younger than 18, receives a rating of \"T\"\n",
    "# Anyone 12 years old or younger receives a rating of \"C\"\n",
    "# If the age is unknown, the rating is set to \"C\"\n",
    "\n",
    "\n",
    "# def distributes(age):\n",
    "#     if age >= 18:\n",
    "#         print(\"A\")\n",
    "#     elif 13 <= age < 18:\n",
    "#         print(\"T\")\n",
    "#     else:\n",
    "#         print(\"C\")\n",
    "# ages=int(input(\"enter the ages\"))\n",
    "# distributes(ages)\n",
    "\n",
    "\n",
    "\n",
    "def get_rating(age):\n",
    "    if age>=18:\n",
    "        rating='A'\n",
    "    elif age >= 13:\n",
    "        rating='T'\n",
    "    else:\n",
    "        rating='C'\n",
    "    return rating\n",
    "get_rating(17)"
   ]
  },
  {
   "cell_type": "raw",
   "id": "0428ab1e-bc41-48e8-8108-4c8550ca12b1",
   "metadata": {},
   "source": [
    "TRY, FINALLY AND EXCEPT  CONCEPT\n",
    "means: A try statement can have one or more except clauses\n",
    "A try statement can have a finally clause without an except clause\n",
    "A try statement can have a finally clause and an except clause"
   ]
  },
  {
   "cell_type": "code",
   "execution_count": 51,
   "id": "7aeb027f-5558-4837-ab76-1e9aca5aace6",
   "metadata": {},
   "outputs": [
    {
     "data": {
      "text/plain": [
       "' This is my first line\\n'"
      ]
     },
     "execution_count": 51,
     "metadata": {},
     "output_type": "execute_result"
    }
   ],
   "source": [
    "import os\n",
    "def get_data(filename,mode):\n",
    "    if os.path.isfile(filename):#can be used to check whether the given flle exist or not.\n",
    "        with open(filename,'r') as file:\n",
    "            return file.readline()\n",
    "    else:\n",
    "        return None\n",
    "get_data(\"B104.txt\",'r')\n",
    "# get_data(\"104.txt\",'r')\n",
    "# Note:The function return the first line of the file if it is avaiable and return None if the file does not exist"
   ]
  },
  {
   "cell_type": "code",
   "execution_count": null,
   "id": "927d87e4-ca83-4180-ba92-ebee6bfc7c99",
   "metadata": {},
   "outputs": [],
   "source": [
    "#  not-understand"
   ]
  },
  {
   "cell_type": "code",
   "execution_count": null,
   "id": "e91b5c28-59a1-468d-8125-d3fde2d6854c",
   "metadata": {},
   "outputs": [
    {
     "name": "stdout",
     "output_type": "stream",
     "text": [
      " This is my first line\n",
      " This is my second line\n",
      " This is my third line\n",
      " This is my last line\n"
     ]
    }
   ],
   "source": [
    "# Write spy program for the following req:\n",
    "# each line of the file must be read and printed\n",
    "# if the blank line encountered, it must be ignored\n",
    "# when all lines have been read,the file must be closed\n",
    "inventory=open(\"B104.txt\",mode='r')\n",
    "eof=False\n",
    "while eof==False:\n",
    "    line=inventory.readline()\n",
    "    if line!='':\n",
    "        if line != '\\n':\n",
    "            print(line,end=\"\")\n",
    "        else:\n",
    "            print(\"end of the line\")\n",
    "            eof=True\n",
    "            inventory.close()\n",
    "            "
   ]
  },
  {
   "cell_type": "code",
   "execution_count": null,
   "id": "d13c34a4-9e66-4e17-b93b-04d6fd8f1752",
   "metadata": {},
   "outputs": [],
   "source": [
    "#we are create a function that reads a data file and prints each line of that file.\n",
    "import os\n",
    "def read_file(file):\n",
    "    line=None\n",
    "    if os.path.isfile(file):\n",
    "        data = open(file,'r')\n",
    "    while line != '':\n",
    "        line=data.readline()\n",
    "        print(line)\n",
    "read_file(\"B104.txt\")"
   ]
  },
  {
   "cell_type": "code",
   "execution_count": 3,
   "id": "b72cc109-b58e-403a-a296-aaf3061ea234",
   "metadata": {},
   "outputs": [
    {
     "name": "stdout",
     "output_type": "stream",
     "text": [
      " This is my first line\n",
      " This is my second line\n",
      " This is my third line\n",
      " This is my last line\n"
     ]
    }
   ],
   "source": [
    "import sys#standard library : its provide access to system-specifiec paprameters and function:\n",
    "try:\n",
    "    file_in=open('B104.txt','r')\n",
    "    file_out=open('file.txt','w+')\n",
    "except:\n",
    "    print(\"cannot open\",file_name)\n",
    "else:\n",
    "    i=1\n",
    "    for line in file_in:\n",
    "        print(line.rstrip())\n",
    "        file_out.write(str(i)+\":\"+line)\n",
    "        i=i+1\n",
    "file_in.close()\n",
    "file_out.close()   \n",
    "    "
   ]
  },
  {
   "cell_type": "code",
   "execution_count": null,
   "id": "23f84e27-3213-48fc-86a4-197a35e27797",
   "metadata": {},
   "outputs": [],
   "source": [
    "# #=Note: Fabs(x) returns the absolute values of x\n",
    "# floor return the largest int less than or equal to x\n",
    "# hence the following line perfrom the required operation\n",
    "from math import sqrt as sq\n",
    "x=-123.456\n",
    "print(math.floor(x))\n",
    "print(math.fabs(x))"
   ]
  },
  {
   "cell_type": "code",
   "execution_count": 5,
   "id": "69e86f6b-54b8-43d6-b66e-a6a15e05c43c",
   "metadata": {},
   "outputs": [
    {
     "name": "stdout",
     "output_type": "stream",
     "text": [
      "False\n",
      "False\n",
      "True\n",
      "True\n"
     ]
    }
   ],
   "source": [
    "n1=[10,20,30,40,50]\n",
    "a=['a','b','c','d','e']\n",
    "print(n1 is a)\n",
    "print(n1 == a)\n",
    "n1=a\n",
    "print(n1 is a)\n",
    "print(n1 == a)\n",
    "note:'Is' OPERATOR IS ALWAYS MEANT FOR REFERENCE COMPARISON AND == OPERATOR ALWAYS MEANTS FOR CONTANT COMPARISON"
   ]
  },
  {
   "cell_type": "code",
   "execution_count": 7,
   "id": "e2b822d0-d313-4f47-bd4d-16dfd4eaab4c",
   "metadata": {},
   "outputs": [
    {
     "name": "stdout",
     "output_type": "stream",
     "text": [
      "3.0\n"
     ]
    }
   ],
   "source": [
    "a=15\n",
    "b=5\n",
    "print(15/5)\n"
   ]
  },
  {
   "cell_type": "code",
   "execution_count": 9,
   "id": "42b60f3f-d26d-48f1-a68f-5aa56a80557c",
   "metadata": {},
   "outputs": [
    {
     "name": "stdin",
     "output_type": "stream",
     "text": [
      "enter the value: 67\n"
     ]
    },
    {
     "name": "stdout",
     "output_type": "stream",
     "text": [
      "<class 'int'>\n"
     ]
    },
    {
     "name": "stdin",
     "output_type": "stream",
     "text": [
      "enter the value: 67.89\n"
     ]
    },
    {
     "name": "stdout",
     "output_type": "stream",
     "text": [
      "<class 'float'>\n"
     ]
    }
   ],
   "source": [
    "#consider the eval code:\n",
    "print(type(eval(input(\"enter the value:\"))))\n",
    "print(type(eval(input(\"enter the value:\"))))"
   ]
  },
  {
   "cell_type": "code",
   "execution_count": 13,
   "id": "eb107a98-2ff4-4c6f-8418-5a14f39244b5",
   "metadata": {},
   "outputs": [
    {
     "data": {
      "text/plain": [
       "17"
      ]
     },
     "execution_count": 13,
     "metadata": {},
     "output_type": "execute_result"
    }
   ],
   "source": [
    "#consider the following expression\n",
    "result=(2*(3+4)**2-(3**3)*3)\n",
    "result"
   ]
  },
  {
   "cell_type": "code",
   "execution_count": 15,
   "id": "c1b5de15-8b2d-4cf0-a80b-d40ba68ea620",
   "metadata": {},
   "outputs": [
    {
     "name": "stdout",
     "output_type": "stream",
     "text": [
      "101010 3.3333333333333335 2.6\n"
     ]
    }
   ],
   "source": [
    "# code segment-1\n",
    "a1='10'\n",
    "b1=3\n",
    "c1=a1*b1\n",
    "# code segment-2\n",
    "a2=10\n",
    "b2=3\n",
    "c2=a2/b2\n",
    "# code segment-3\n",
    "a3=2.6\n",
    "b3=1\n",
    "c3=a3/b3\n",
    "print(c1,c2,c3)"
   ]
  },
  {
   "cell_type": "code",
   "execution_count": 17,
   "id": "c570c55a-9ce1-4de7-8b27-ef7a0bcf2a23",
   "metadata": {},
   "outputs": [],
   "source": [
    "#note:Thew valid operator Precedence Order\n",
    "# Paranthensis\n",
    "# Exponents\n",
    "# Unary Positive , negative and not\n",
    "# Mutiplication and division\n",
    "# Addition and Subtraction\n",
    "# And"
   ]
  },
  {
   "cell_type": "code",
   "execution_count": 19,
   "id": "a0329b3e-d339-470f-9b6f-14450e6995f8",
   "metadata": {},
   "outputs": [
    {
     "data": {
      "text/plain": [
       "16"
      ]
     },
     "execution_count": 19,
     "metadata": {},
     "output_type": "execute_result"
    }
   ],
   "source": [
    "# write a function to calculate the power of a number by using python\n",
    "def calc_power(x,y):\n",
    "    comments= x**y\n",
    "    return comments\n",
    "calc_power(2,4)"
   ]
  },
  {
   "cell_type": "code",
   "execution_count": 21,
   "id": "9cb37980-0eac-4c58-a4e2-3b852c4cfbb8",
   "metadata": {},
   "outputs": [
    {
     "name": "stdout",
     "output_type": "stream",
     "text": [
      "try\n",
      "except\n",
      "finally\n"
     ]
    }
   ],
   "source": [
    "try:\n",
    "    print(\"try\")\n",
    "    print(10/0)\n",
    "except:\n",
    "     print(\"except\")\n",
    "else:\n",
    "     print(\"else\")\n",
    "finally:\n",
    "     print(\"finally\")"
   ]
  },
  {
   "cell_type": "code",
   "execution_count": null,
   "id": "0e540dc6-acc1-4474-8416-35fe6f797a19",
   "metadata": {},
   "outputs": [],
   "source": []
  }
 ],
 "metadata": {
  "kernelspec": {
   "display_name": "Python 3 (ipykernel)",
   "language": "python",
   "name": "python3"
  },
  "language_info": {
   "codemirror_mode": {
    "name": "ipython",
    "version": 3
   },
   "file_extension": ".py",
   "mimetype": "text/x-python",
   "name": "python",
   "nbconvert_exporter": "python",
   "pygments_lexer": "ipython3",
   "version": "3.12.4"
  }
 },
 "nbformat": 4,
 "nbformat_minor": 5
}
